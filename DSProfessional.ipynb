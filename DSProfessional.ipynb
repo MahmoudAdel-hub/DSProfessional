{
 "cells": [
  {
   "cell_type": "code",
   "execution_count": 1,
   "id": "e813930a",
   "metadata": {},
   "outputs": [],
   "source": [
    "import pandas as pd\n",
    "import numpy as np\n",
    "import seaborn as sns \n",
    "import matplotlib.pyplot as plt\n",
    "import missingno as ms"
   ]
  },
  {
   "cell_type": "markdown",
   "id": "c2122683",
   "metadata": {},
   "source": [
    "# Data Wrangle"
   ]
  },
  {
   "cell_type": "markdown",
   "id": "f0dbdc8a",
   "metadata": {},
   "source": [
    "### Data Gathering"
   ]
  },
  {
   "cell_type": "code",
   "execution_count": 2,
   "id": "cb582c7a",
   "metadata": {},
   "outputs": [],
   "source": [
    "df = pd.read_csv(r'C:\\Users\\HP\\Desktop\\datacamp\\DS professional\\recipe_site_traffic_2212.csv')"
   ]
  },
  {
   "cell_type": "markdown",
   "id": "e02521e7",
   "metadata": {},
   "source": [
    "### Data Validation"
   ]
  },
  {
   "cell_type": "markdown",
   "id": "aa507f8b",
   "metadata": {},
   "source": [
    "- recipe : Numeric &#10003; ,Unique &#10003;\n",
    "- calories : Numeric &#10003;\n",
    "- carbohydrate : Numeric &#10003; \n",
    "- sugar : Numeric &#10003;\n",
    "- protein : Numeric &#10003;\n",
    "- category : Character &#10003; ,10 groups &#10060; \"Chicken Breast\" \n",
    "- servings : Numeric &#10060; ,\"4 as a snack ,6 as a snack\"\n",
    "- high_traffic : Character &#10003;"
   ]
  },
  {
   "cell_type": "code",
   "execution_count": 3,
   "id": "e0670847",
   "metadata": {},
   "outputs": [],
   "source": [
    "assert df['recipe'].nunique() == 947"
   ]
  },
  {
   "cell_type": "code",
   "execution_count": 4,
   "id": "9d56c366",
   "metadata": {},
   "outputs": [
    {
     "data": {
      "text/plain": [
       "recipe            int64\n",
       "calories        float64\n",
       "carbohydrate    float64\n",
       "sugar           float64\n",
       "protein         float64\n",
       "category         object\n",
       "servings         object\n",
       "high_traffic     object\n",
       "dtype: object"
      ]
     },
     "execution_count": 4,
     "metadata": {},
     "output_type": "execute_result"
    }
   ],
   "source": [
    "df.dtypes"
   ]
  },
  {
   "cell_type": "code",
   "execution_count": 5,
   "id": "3a580d5e",
   "metadata": {},
   "outputs": [
    {
     "data": {
      "text/plain": [
       "array(['Pork', 'Potato', 'Breakfast', 'Beverages', 'One Dish Meal',\n",
       "       'Chicken Breast', 'Lunch/Snacks', 'Chicken', 'Vegetable', 'Meat',\n",
       "       'Dessert'], dtype=object)"
      ]
     },
     "execution_count": 5,
     "metadata": {},
     "output_type": "execute_result"
    }
   ],
   "source": [
    "df['category'].unique()"
   ]
  },
  {
   "cell_type": "code",
   "execution_count": 6,
   "id": "9bee9476",
   "metadata": {},
   "outputs": [
    {
     "data": {
      "text/plain": [
       "array(['6', '4', '1', '2', '4 as a snack', '6 as a snack'], dtype=object)"
      ]
     },
     "execution_count": 6,
     "metadata": {},
     "output_type": "execute_result"
    }
   ],
   "source": [
    "df['servings'].unique()"
   ]
  },
  {
   "cell_type": "code",
   "execution_count": 7,
   "id": "ac226d79",
   "metadata": {},
   "outputs": [
    {
     "data": {
      "text/plain": [
       "array(['High', nan], dtype=object)"
      ]
     },
     "execution_count": 7,
     "metadata": {},
     "output_type": "execute_result"
    }
   ],
   "source": [
    "df['high_traffic'].unique()"
   ]
  },
  {
   "cell_type": "markdown",
   "id": "012c998b",
   "metadata": {},
   "source": [
    "### Data Assessing"
   ]
  },
  {
   "cell_type": "markdown",
   "id": "7d1897d6",
   "metadata": {},
   "source": [
    "#### Quality \n",
    "- InCompleteness Data : calories -> 52 ,carbohydrate -> 52 ,sugar -> 52 ,protein -> 52 ,high_traffic -> 373\n",
    "- InConsistent Data : servings -> \"4 as a snack\" ,\"6 as a snack\" ,category :\"Chicken Breast\"\n",
    "- Data Type : servings -> Object"
   ]
  },
  {
   "cell_type": "code",
   "execution_count": 8,
   "id": "cf7d920c",
   "metadata": {},
   "outputs": [
    {
     "data": {
      "text/plain": [
       "recipe            0\n",
       "calories         52\n",
       "carbohydrate     52\n",
       "sugar            52\n",
       "protein          52\n",
       "category          0\n",
       "servings          0\n",
       "high_traffic    373\n",
       "dtype: int64"
      ]
     },
     "execution_count": 8,
     "metadata": {},
     "output_type": "execute_result"
    }
   ],
   "source": [
    "df.isna().sum()"
   ]
  },
  {
   "cell_type": "code",
   "execution_count": 9,
   "id": "edaefbe5",
   "metadata": {},
   "outputs": [
    {
     "data": {
      "text/plain": [
       "4               389\n",
       "6               197\n",
       "2               183\n",
       "1               175\n",
       "4 as a snack      2\n",
       "6 as a snack      1\n",
       "Name: servings, dtype: int64"
      ]
     },
     "execution_count": 9,
     "metadata": {},
     "output_type": "execute_result"
    }
   ],
   "source": [
    "df['servings'].value_counts()"
   ]
  },
  {
   "cell_type": "markdown",
   "id": "1177d114",
   "metadata": {},
   "source": [
    "#### Cleaning "
   ]
  },
  {
   "cell_type": "code",
   "execution_count": 10,
   "id": "8a312a59",
   "metadata": {},
   "outputs": [],
   "source": [
    "df['servings']=df['servings'].str.strip(' as a snack').astype(int)"
   ]
  },
  {
   "cell_type": "code",
   "execution_count": 11,
   "id": "70a9def5",
   "metadata": {},
   "outputs": [],
   "source": [
    "df['category']=df['category'].str.replace(' Breast','')"
   ]
  },
  {
   "cell_type": "code",
   "execution_count": 12,
   "id": "75dfd9ae",
   "metadata": {},
   "outputs": [],
   "source": [
    "df.fillna(0,inplace=True)"
   ]
  },
  {
   "cell_type": "markdown",
   "id": "03d9edb9",
   "metadata": {},
   "source": [
    "- Missing Values &#10003;\n",
    "- InConsistent Data &#10003;\n",
    "- Data Type &#10003;\n",
    "\n",
    "steps :\n",
    "- remove  as a snack from serving column and change data type to int\n",
    "- replace null values with special number '0' to work with it after bu using advanced techniques"
   ]
  },
  {
   "cell_type": "markdown",
   "id": "780af6db",
   "metadata": {},
   "source": [
    "# EDA"
   ]
  },
  {
   "cell_type": "code",
   "execution_count": 13,
   "id": "1b31c9be",
   "metadata": {},
   "outputs": [
    {
     "data": {
      "text/html": [
       "<div>\n",
       "<style scoped>\n",
       "    .dataframe tbody tr th:only-of-type {\n",
       "        vertical-align: middle;\n",
       "    }\n",
       "\n",
       "    .dataframe tbody tr th {\n",
       "        vertical-align: top;\n",
       "    }\n",
       "\n",
       "    .dataframe thead th {\n",
       "        text-align: right;\n",
       "    }\n",
       "</style>\n",
       "<table border=\"1\" class=\"dataframe\">\n",
       "  <thead>\n",
       "    <tr style=\"text-align: right;\">\n",
       "      <th></th>\n",
       "      <th>recipe</th>\n",
       "      <th>calories</th>\n",
       "      <th>carbohydrate</th>\n",
       "      <th>sugar</th>\n",
       "      <th>protein</th>\n",
       "      <th>servings</th>\n",
       "    </tr>\n",
       "  </thead>\n",
       "  <tbody>\n",
       "    <tr>\n",
       "      <th>count</th>\n",
       "      <td>947.000000</td>\n",
       "      <td>947.000000</td>\n",
       "      <td>947.000000</td>\n",
       "      <td>947.000000</td>\n",
       "      <td>947.000000</td>\n",
       "      <td>947.000000</td>\n",
       "    </tr>\n",
       "    <tr>\n",
       "      <th>mean</th>\n",
       "      <td>474.000000</td>\n",
       "      <td>412.001668</td>\n",
       "      <td>33.143992</td>\n",
       "      <td>8.549799</td>\n",
       "      <td>22.823252</td>\n",
       "      <td>3.477297</td>\n",
       "    </tr>\n",
       "    <tr>\n",
       "      <th>std</th>\n",
       "      <td>273.519652</td>\n",
       "      <td>451.463971</td>\n",
       "      <td>43.465360</td>\n",
       "      <td>14.418229</td>\n",
       "      <td>35.781906</td>\n",
       "      <td>1.732741</td>\n",
       "    </tr>\n",
       "    <tr>\n",
       "      <th>min</th>\n",
       "      <td>1.000000</td>\n",
       "      <td>0.000000</td>\n",
       "      <td>0.000000</td>\n",
       "      <td>0.000000</td>\n",
       "      <td>0.000000</td>\n",
       "      <td>1.000000</td>\n",
       "    </tr>\n",
       "    <tr>\n",
       "      <th>25%</th>\n",
       "      <td>237.500000</td>\n",
       "      <td>88.215000</td>\n",
       "      <td>6.770000</td>\n",
       "      <td>1.450000</td>\n",
       "      <td>2.290000</td>\n",
       "      <td>2.000000</td>\n",
       "    </tr>\n",
       "    <tr>\n",
       "      <th>50%</th>\n",
       "      <td>474.000000</td>\n",
       "      <td>264.130000</td>\n",
       "      <td>19.440000</td>\n",
       "      <td>4.140000</td>\n",
       "      <td>9.640000</td>\n",
       "      <td>4.000000</td>\n",
       "    </tr>\n",
       "    <tr>\n",
       "      <th>75%</th>\n",
       "      <td>710.500000</td>\n",
       "      <td>576.225000</td>\n",
       "      <td>42.590000</td>\n",
       "      <td>9.285000</td>\n",
       "      <td>28.530000</td>\n",
       "      <td>4.000000</td>\n",
       "    </tr>\n",
       "    <tr>\n",
       "      <th>max</th>\n",
       "      <td>947.000000</td>\n",
       "      <td>3633.160000</td>\n",
       "      <td>530.420000</td>\n",
       "      <td>148.750000</td>\n",
       "      <td>363.360000</td>\n",
       "      <td>6.000000</td>\n",
       "    </tr>\n",
       "  </tbody>\n",
       "</table>\n",
       "</div>"
      ],
      "text/plain": [
       "           recipe     calories  carbohydrate       sugar     protein  \\\n",
       "count  947.000000   947.000000    947.000000  947.000000  947.000000   \n",
       "mean   474.000000   412.001668     33.143992    8.549799   22.823252   \n",
       "std    273.519652   451.463971     43.465360   14.418229   35.781906   \n",
       "min      1.000000     0.000000      0.000000    0.000000    0.000000   \n",
       "25%    237.500000    88.215000      6.770000    1.450000    2.290000   \n",
       "50%    474.000000   264.130000     19.440000    4.140000    9.640000   \n",
       "75%    710.500000   576.225000     42.590000    9.285000   28.530000   \n",
       "max    947.000000  3633.160000    530.420000  148.750000  363.360000   \n",
       "\n",
       "         servings  \n",
       "count  947.000000  \n",
       "mean     3.477297  \n",
       "std      1.732741  \n",
       "min      1.000000  \n",
       "25%      2.000000  \n",
       "50%      4.000000  \n",
       "75%      4.000000  \n",
       "max      6.000000  "
      ]
     },
     "execution_count": 13,
     "metadata": {},
     "output_type": "execute_result"
    }
   ],
   "source": [
    "df.describe()"
   ]
  },
  {
   "cell_type": "code",
   "execution_count": 14,
   "id": "502a58e6",
   "metadata": {},
   "outputs": [],
   "source": [
    "df.replace(0,np.nan,inplace=True)"
   ]
  },
  {
   "cell_type": "code",
   "execution_count": 15,
   "id": "adc66124",
   "metadata": {},
   "outputs": [],
   "source": [
    "df['high_traffic'].fillna('Low',inplace=True)"
   ]
  },
  {
   "cell_type": "code",
   "execution_count": 16,
   "id": "46bab8a5",
   "metadata": {},
   "outputs": [
    {
     "data": {
      "image/png": "[encoded data removed]",
      "text/plain": [
       "<Figure size 1800x720 with 2 Axes>"
      ]
     },
     "metadata": {
      "needs_background": "light"
     },
     "output_type": "display_data"
    }
   ],
   "source": [
    "ms.matrix(df,color=(0.1, 0.1, 0.1))\n",
    "plt.title('Missing Values',size=20)\n",
    "plt.show()"
   ]
  },
  {
   "cell_type": "code",
   "execution_count": 17,
   "id": "8be79510",
   "metadata": {},
   "outputs": [
    {
     "data": {
      "text/html": [
       "<div>\n",
       "<style scoped>\n",
       "    .dataframe tbody tr th:only-of-type {\n",
       "        vertical-align: middle;\n",
       "    }\n",
       "\n",
       "    .dataframe tbody tr th {\n",
       "        vertical-align: top;\n",
       "    }\n",
       "\n",
       "    .dataframe thead th {\n",
       "        text-align: right;\n",
       "    }\n",
       "</style>\n",
       "<table border=\"1\" class=\"dataframe\">\n",
       "  <thead>\n",
       "    <tr style=\"text-align: right;\">\n",
       "      <th></th>\n",
       "      <th>recipe</th>\n",
       "      <th>calories</th>\n",
       "      <th>carbohydrate</th>\n",
       "      <th>sugar</th>\n",
       "      <th>protein</th>\n",
       "      <th>category</th>\n",
       "      <th>servings</th>\n",
       "      <th>high_traffic</th>\n",
       "    </tr>\n",
       "  </thead>\n",
       "  <tbody>\n",
       "    <tr>\n",
       "      <th>0</th>\n",
       "      <td>1</td>\n",
       "      <td>NaN</td>\n",
       "      <td>NaN</td>\n",
       "      <td>NaN</td>\n",
       "      <td>NaN</td>\n",
       "      <td>Pork</td>\n",
       "      <td>6</td>\n",
       "      <td>High</td>\n",
       "    </tr>\n",
       "    <tr>\n",
       "      <th>23</th>\n",
       "      <td>24</td>\n",
       "      <td>NaN</td>\n",
       "      <td>NaN</td>\n",
       "      <td>NaN</td>\n",
       "      <td>NaN</td>\n",
       "      <td>Meat</td>\n",
       "      <td>2</td>\n",
       "      <td>Low</td>\n",
       "    </tr>\n",
       "    <tr>\n",
       "      <th>48</th>\n",
       "      <td>49</td>\n",
       "      <td>NaN</td>\n",
       "      <td>NaN</td>\n",
       "      <td>NaN</td>\n",
       "      <td>NaN</td>\n",
       "      <td>Chicken</td>\n",
       "      <td>4</td>\n",
       "      <td>Low</td>\n",
       "    </tr>\n",
       "    <tr>\n",
       "      <th>82</th>\n",
       "      <td>83</td>\n",
       "      <td>NaN</td>\n",
       "      <td>NaN</td>\n",
       "      <td>NaN</td>\n",
       "      <td>NaN</td>\n",
       "      <td>Meat</td>\n",
       "      <td>4</td>\n",
       "      <td>High</td>\n",
       "    </tr>\n",
       "    <tr>\n",
       "      <th>89</th>\n",
       "      <td>90</td>\n",
       "      <td>NaN</td>\n",
       "      <td>NaN</td>\n",
       "      <td>NaN</td>\n",
       "      <td>NaN</td>\n",
       "      <td>Pork</td>\n",
       "      <td>6</td>\n",
       "      <td>High</td>\n",
       "    </tr>\n",
       "    <tr>\n",
       "      <th>116</th>\n",
       "      <td>117</td>\n",
       "      <td>NaN</td>\n",
       "      <td>NaN</td>\n",
       "      <td>NaN</td>\n",
       "      <td>NaN</td>\n",
       "      <td>Chicken</td>\n",
       "      <td>6</td>\n",
       "      <td>High</td>\n",
       "    </tr>\n",
       "    <tr>\n",
       "      <th>121</th>\n",
       "      <td>122</td>\n",
       "      <td>NaN</td>\n",
       "      <td>NaN</td>\n",
       "      <td>NaN</td>\n",
       "      <td>NaN</td>\n",
       "      <td>Dessert</td>\n",
       "      <td>2</td>\n",
       "      <td>High</td>\n",
       "    </tr>\n",
       "    <tr>\n",
       "      <th>136</th>\n",
       "      <td>137</td>\n",
       "      <td>NaN</td>\n",
       "      <td>NaN</td>\n",
       "      <td>NaN</td>\n",
       "      <td>NaN</td>\n",
       "      <td>One Dish Meal</td>\n",
       "      <td>2</td>\n",
       "      <td>High</td>\n",
       "    </tr>\n",
       "    <tr>\n",
       "      <th>149</th>\n",
       "      <td>150</td>\n",
       "      <td>NaN</td>\n",
       "      <td>NaN</td>\n",
       "      <td>NaN</td>\n",
       "      <td>NaN</td>\n",
       "      <td>Potato</td>\n",
       "      <td>2</td>\n",
       "      <td>High</td>\n",
       "    </tr>\n",
       "    <tr>\n",
       "      <th>187</th>\n",
       "      <td>188</td>\n",
       "      <td>NaN</td>\n",
       "      <td>NaN</td>\n",
       "      <td>NaN</td>\n",
       "      <td>NaN</td>\n",
       "      <td>Pork</td>\n",
       "      <td>4</td>\n",
       "      <td>High</td>\n",
       "    </tr>\n",
       "    <tr>\n",
       "      <th>209</th>\n",
       "      <td>210</td>\n",
       "      <td>NaN</td>\n",
       "      <td>NaN</td>\n",
       "      <td>NaN</td>\n",
       "      <td>NaN</td>\n",
       "      <td>Dessert</td>\n",
       "      <td>2</td>\n",
       "      <td>High</td>\n",
       "    </tr>\n",
       "    <tr>\n",
       "      <th>212</th>\n",
       "      <td>213</td>\n",
       "      <td>NaN</td>\n",
       "      <td>NaN</td>\n",
       "      <td>NaN</td>\n",
       "      <td>NaN</td>\n",
       "      <td>Dessert</td>\n",
       "      <td>4</td>\n",
       "      <td>High</td>\n",
       "    </tr>\n",
       "    <tr>\n",
       "      <th>221</th>\n",
       "      <td>222</td>\n",
       "      <td>NaN</td>\n",
       "      <td>NaN</td>\n",
       "      <td>NaN</td>\n",
       "      <td>NaN</td>\n",
       "      <td>Dessert</td>\n",
       "      <td>1</td>\n",
       "      <td>Low</td>\n",
       "    </tr>\n",
       "    <tr>\n",
       "      <th>249</th>\n",
       "      <td>250</td>\n",
       "      <td>NaN</td>\n",
       "      <td>NaN</td>\n",
       "      <td>NaN</td>\n",
       "      <td>NaN</td>\n",
       "      <td>Chicken</td>\n",
       "      <td>6</td>\n",
       "      <td>Low</td>\n",
       "    </tr>\n",
       "    <tr>\n",
       "      <th>262</th>\n",
       "      <td>263</td>\n",
       "      <td>NaN</td>\n",
       "      <td>NaN</td>\n",
       "      <td>NaN</td>\n",
       "      <td>NaN</td>\n",
       "      <td>Chicken</td>\n",
       "      <td>4</td>\n",
       "      <td>Low</td>\n",
       "    </tr>\n",
       "    <tr>\n",
       "      <th>278</th>\n",
       "      <td>279</td>\n",
       "      <td>NaN</td>\n",
       "      <td>NaN</td>\n",
       "      <td>NaN</td>\n",
       "      <td>NaN</td>\n",
       "      <td>Lunch/Snacks</td>\n",
       "      <td>4</td>\n",
       "      <td>High</td>\n",
       "    </tr>\n",
       "    <tr>\n",
       "      <th>280</th>\n",
       "      <td>281</td>\n",
       "      <td>NaN</td>\n",
       "      <td>NaN</td>\n",
       "      <td>NaN</td>\n",
       "      <td>NaN</td>\n",
       "      <td>Meat</td>\n",
       "      <td>1</td>\n",
       "      <td>High</td>\n",
       "    </tr>\n",
       "    <tr>\n",
       "      <th>297</th>\n",
       "      <td>298</td>\n",
       "      <td>NaN</td>\n",
       "      <td>NaN</td>\n",
       "      <td>NaN</td>\n",
       "      <td>NaN</td>\n",
       "      <td>Lunch/Snacks</td>\n",
       "      <td>6</td>\n",
       "      <td>Low</td>\n",
       "    </tr>\n",
       "    <tr>\n",
       "      <th>326</th>\n",
       "      <td>327</td>\n",
       "      <td>NaN</td>\n",
       "      <td>NaN</td>\n",
       "      <td>NaN</td>\n",
       "      <td>NaN</td>\n",
       "      <td>Potato</td>\n",
       "      <td>4</td>\n",
       "      <td>High</td>\n",
       "    </tr>\n",
       "    <tr>\n",
       "      <th>351</th>\n",
       "      <td>352</td>\n",
       "      <td>NaN</td>\n",
       "      <td>NaN</td>\n",
       "      <td>NaN</td>\n",
       "      <td>NaN</td>\n",
       "      <td>Potato</td>\n",
       "      <td>4</td>\n",
       "      <td>High</td>\n",
       "    </tr>\n",
       "    <tr>\n",
       "      <th>354</th>\n",
       "      <td>355</td>\n",
       "      <td>NaN</td>\n",
       "      <td>NaN</td>\n",
       "      <td>NaN</td>\n",
       "      <td>NaN</td>\n",
       "      <td>Pork</td>\n",
       "      <td>4</td>\n",
       "      <td>High</td>\n",
       "    </tr>\n",
       "    <tr>\n",
       "      <th>372</th>\n",
       "      <td>373</td>\n",
       "      <td>NaN</td>\n",
       "      <td>NaN</td>\n",
       "      <td>NaN</td>\n",
       "      <td>NaN</td>\n",
       "      <td>Vegetable</td>\n",
       "      <td>2</td>\n",
       "      <td>High</td>\n",
       "    </tr>\n",
       "    <tr>\n",
       "      <th>376</th>\n",
       "      <td>377</td>\n",
       "      <td>NaN</td>\n",
       "      <td>NaN</td>\n",
       "      <td>NaN</td>\n",
       "      <td>NaN</td>\n",
       "      <td>Pork</td>\n",
       "      <td>6</td>\n",
       "      <td>High</td>\n",
       "    </tr>\n",
       "    <tr>\n",
       "      <th>388</th>\n",
       "      <td>389</td>\n",
       "      <td>NaN</td>\n",
       "      <td>NaN</td>\n",
       "      <td>NaN</td>\n",
       "      <td>NaN</td>\n",
       "      <td>Lunch/Snacks</td>\n",
       "      <td>4</td>\n",
       "      <td>High</td>\n",
       "    </tr>\n",
       "    <tr>\n",
       "      <th>405</th>\n",
       "      <td>406</td>\n",
       "      <td>NaN</td>\n",
       "      <td>NaN</td>\n",
       "      <td>NaN</td>\n",
       "      <td>NaN</td>\n",
       "      <td>Vegetable</td>\n",
       "      <td>4</td>\n",
       "      <td>High</td>\n",
       "    </tr>\n",
       "    <tr>\n",
       "      <th>427</th>\n",
       "      <td>428</td>\n",
       "      <td>NaN</td>\n",
       "      <td>NaN</td>\n",
       "      <td>NaN</td>\n",
       "      <td>NaN</td>\n",
       "      <td>Vegetable</td>\n",
       "      <td>4</td>\n",
       "      <td>High</td>\n",
       "    </tr>\n",
       "    <tr>\n",
       "      <th>455</th>\n",
       "      <td>456</td>\n",
       "      <td>NaN</td>\n",
       "      <td>NaN</td>\n",
       "      <td>NaN</td>\n",
       "      <td>NaN</td>\n",
       "      <td>Pork</td>\n",
       "      <td>6</td>\n",
       "      <td>High</td>\n",
       "    </tr>\n",
       "    <tr>\n",
       "      <th>468</th>\n",
       "      <td>469</td>\n",
       "      <td>27.11</td>\n",
       "      <td>22.63</td>\n",
       "      <td>4.93</td>\n",
       "      <td>NaN</td>\n",
       "      <td>Beverages</td>\n",
       "      <td>1</td>\n",
       "      <td>Low</td>\n",
       "    </tr>\n",
       "    <tr>\n",
       "      <th>530</th>\n",
       "      <td>531</td>\n",
       "      <td>NaN</td>\n",
       "      <td>NaN</td>\n",
       "      <td>NaN</td>\n",
       "      <td>NaN</td>\n",
       "      <td>Vegetable</td>\n",
       "      <td>1</td>\n",
       "      <td>High</td>\n",
       "    </tr>\n",
       "    <tr>\n",
       "      <th>534</th>\n",
       "      <td>535</td>\n",
       "      <td>NaN</td>\n",
       "      <td>NaN</td>\n",
       "      <td>NaN</td>\n",
       "      <td>NaN</td>\n",
       "      <td>Chicken</td>\n",
       "      <td>2</td>\n",
       "      <td>High</td>\n",
       "    </tr>\n",
       "    <tr>\n",
       "      <th>538</th>\n",
       "      <td>539</td>\n",
       "      <td>NaN</td>\n",
       "      <td>NaN</td>\n",
       "      <td>NaN</td>\n",
       "      <td>NaN</td>\n",
       "      <td>Vegetable</td>\n",
       "      <td>4</td>\n",
       "      <td>High</td>\n",
       "    </tr>\n",
       "    <tr>\n",
       "      <th>545</th>\n",
       "      <td>546</td>\n",
       "      <td>NaN</td>\n",
       "      <td>NaN</td>\n",
       "      <td>NaN</td>\n",
       "      <td>NaN</td>\n",
       "      <td>Chicken</td>\n",
       "      <td>6</td>\n",
       "      <td>High</td>\n",
       "    </tr>\n",
       "    <tr>\n",
       "      <th>555</th>\n",
       "      <td>556</td>\n",
       "      <td>NaN</td>\n",
       "      <td>NaN</td>\n",
       "      <td>NaN</td>\n",
       "      <td>NaN</td>\n",
       "      <td>Meat</td>\n",
       "      <td>2</td>\n",
       "      <td>Low</td>\n",
       "    </tr>\n",
       "    <tr>\n",
       "      <th>573</th>\n",
       "      <td>574</td>\n",
       "      <td>NaN</td>\n",
       "      <td>NaN</td>\n",
       "      <td>NaN</td>\n",
       "      <td>NaN</td>\n",
       "      <td>Lunch/Snacks</td>\n",
       "      <td>4</td>\n",
       "      <td>Low</td>\n",
       "    </tr>\n",
       "    <tr>\n",
       "      <th>581</th>\n",
       "      <td>582</td>\n",
       "      <td>NaN</td>\n",
       "      <td>NaN</td>\n",
       "      <td>NaN</td>\n",
       "      <td>NaN</td>\n",
       "      <td>Chicken</td>\n",
       "      <td>1</td>\n",
       "      <td>Low</td>\n",
       "    </tr>\n",
       "    <tr>\n",
       "      <th>608</th>\n",
       "      <td>609</td>\n",
       "      <td>NaN</td>\n",
       "      <td>NaN</td>\n",
       "      <td>NaN</td>\n",
       "      <td>NaN</td>\n",
       "      <td>Chicken</td>\n",
       "      <td>4</td>\n",
       "      <td>Low</td>\n",
       "    </tr>\n",
       "    <tr>\n",
       "      <th>674</th>\n",
       "      <td>675</td>\n",
       "      <td>NaN</td>\n",
       "      <td>NaN</td>\n",
       "      <td>NaN</td>\n",
       "      <td>NaN</td>\n",
       "      <td>Pork</td>\n",
       "      <td>4</td>\n",
       "      <td>High</td>\n",
       "    </tr>\n",
       "    <tr>\n",
       "      <th>683</th>\n",
       "      <td>684</td>\n",
       "      <td>NaN</td>\n",
       "      <td>NaN</td>\n",
       "      <td>NaN</td>\n",
       "      <td>NaN</td>\n",
       "      <td>Potato</td>\n",
       "      <td>1</td>\n",
       "      <td>High</td>\n",
       "    </tr>\n",
       "    <tr>\n",
       "      <th>711</th>\n",
       "      <td>712</td>\n",
       "      <td>NaN</td>\n",
       "      <td>NaN</td>\n",
       "      <td>NaN</td>\n",
       "      <td>NaN</td>\n",
       "      <td>Lunch/Snacks</td>\n",
       "      <td>4</td>\n",
       "      <td>High</td>\n",
       "    </tr>\n",
       "    <tr>\n",
       "      <th>712</th>\n",
       "      <td>713</td>\n",
       "      <td>NaN</td>\n",
       "      <td>NaN</td>\n",
       "      <td>NaN</td>\n",
       "      <td>NaN</td>\n",
       "      <td>Pork</td>\n",
       "      <td>6</td>\n",
       "      <td>High</td>\n",
       "    </tr>\n",
       "    <tr>\n",
       "      <th>749</th>\n",
       "      <td>750</td>\n",
       "      <td>NaN</td>\n",
       "      <td>NaN</td>\n",
       "      <td>NaN</td>\n",
       "      <td>NaN</td>\n",
       "      <td>Dessert</td>\n",
       "      <td>4</td>\n",
       "      <td>High</td>\n",
       "    </tr>\n",
       "    <tr>\n",
       "      <th>765</th>\n",
       "      <td>766</td>\n",
       "      <td>NaN</td>\n",
       "      <td>NaN</td>\n",
       "      <td>NaN</td>\n",
       "      <td>NaN</td>\n",
       "      <td>Pork</td>\n",
       "      <td>1</td>\n",
       "      <td>High</td>\n",
       "    </tr>\n",
       "    <tr>\n",
       "      <th>772</th>\n",
       "      <td>773</td>\n",
       "      <td>NaN</td>\n",
       "      <td>NaN</td>\n",
       "      <td>NaN</td>\n",
       "      <td>NaN</td>\n",
       "      <td>One Dish Meal</td>\n",
       "      <td>4</td>\n",
       "      <td>Low</td>\n",
       "    </tr>\n",
       "    <tr>\n",
       "      <th>812</th>\n",
       "      <td>813</td>\n",
       "      <td>550.71</td>\n",
       "      <td>11.53</td>\n",
       "      <td>0.35</td>\n",
       "      <td>NaN</td>\n",
       "      <td>Potato</td>\n",
       "      <td>2</td>\n",
       "      <td>High</td>\n",
       "    </tr>\n",
       "    <tr>\n",
       "      <th>851</th>\n",
       "      <td>852</td>\n",
       "      <td>NaN</td>\n",
       "      <td>NaN</td>\n",
       "      <td>NaN</td>\n",
       "      <td>NaN</td>\n",
       "      <td>Lunch/Snacks</td>\n",
       "      <td>4</td>\n",
       "      <td>High</td>\n",
       "    </tr>\n",
       "    <tr>\n",
       "      <th>859</th>\n",
       "      <td>860</td>\n",
       "      <td>NaN</td>\n",
       "      <td>NaN</td>\n",
       "      <td>NaN</td>\n",
       "      <td>NaN</td>\n",
       "      <td>One Dish Meal</td>\n",
       "      <td>4</td>\n",
       "      <td>Low</td>\n",
       "    </tr>\n",
       "    <tr>\n",
       "      <th>865</th>\n",
       "      <td>866</td>\n",
       "      <td>NaN</td>\n",
       "      <td>NaN</td>\n",
       "      <td>NaN</td>\n",
       "      <td>NaN</td>\n",
       "      <td>Lunch/Snacks</td>\n",
       "      <td>6</td>\n",
       "      <td>High</td>\n",
       "    </tr>\n",
       "    <tr>\n",
       "      <th>890</th>\n",
       "      <td>891</td>\n",
       "      <td>NaN</td>\n",
       "      <td>NaN</td>\n",
       "      <td>NaN</td>\n",
       "      <td>NaN</td>\n",
       "      <td>Meat</td>\n",
       "      <td>4</td>\n",
       "      <td>High</td>\n",
       "    </tr>\n",
       "    <tr>\n",
       "      <th>893</th>\n",
       "      <td>894</td>\n",
       "      <td>NaN</td>\n",
       "      <td>NaN</td>\n",
       "      <td>NaN</td>\n",
       "      <td>NaN</td>\n",
       "      <td>One Dish Meal</td>\n",
       "      <td>4</td>\n",
       "      <td>Low</td>\n",
       "    </tr>\n",
       "    <tr>\n",
       "      <th>896</th>\n",
       "      <td>897</td>\n",
       "      <td>NaN</td>\n",
       "      <td>NaN</td>\n",
       "      <td>NaN</td>\n",
       "      <td>NaN</td>\n",
       "      <td>Chicken</td>\n",
       "      <td>6</td>\n",
       "      <td>High</td>\n",
       "    </tr>\n",
       "    <tr>\n",
       "      <th>911</th>\n",
       "      <td>912</td>\n",
       "      <td>NaN</td>\n",
       "      <td>NaN</td>\n",
       "      <td>NaN</td>\n",
       "      <td>NaN</td>\n",
       "      <td>Dessert</td>\n",
       "      <td>6</td>\n",
       "      <td>High</td>\n",
       "    </tr>\n",
       "    <tr>\n",
       "      <th>918</th>\n",
       "      <td>919</td>\n",
       "      <td>NaN</td>\n",
       "      <td>NaN</td>\n",
       "      <td>NaN</td>\n",
       "      <td>NaN</td>\n",
       "      <td>Pork</td>\n",
       "      <td>6</td>\n",
       "      <td>High</td>\n",
       "    </tr>\n",
       "    <tr>\n",
       "      <th>938</th>\n",
       "      <td>939</td>\n",
       "      <td>NaN</td>\n",
       "      <td>NaN</td>\n",
       "      <td>NaN</td>\n",
       "      <td>NaN</td>\n",
       "      <td>Pork</td>\n",
       "      <td>4</td>\n",
       "      <td>High</td>\n",
       "    </tr>\n",
       "    <tr>\n",
       "      <th>943</th>\n",
       "      <td>944</td>\n",
       "      <td>NaN</td>\n",
       "      <td>NaN</td>\n",
       "      <td>NaN</td>\n",
       "      <td>NaN</td>\n",
       "      <td>Potato</td>\n",
       "      <td>2</td>\n",
       "      <td>High</td>\n",
       "    </tr>\n",
       "  </tbody>\n",
       "</table>\n",
       "</div>"
      ],
      "text/plain": [
       "     recipe  calories  carbohydrate  sugar  protein       category  servings  \\\n",
       "0         1       NaN           NaN    NaN      NaN           Pork         6   \n",
       "23       24       NaN           NaN    NaN      NaN           Meat         2   \n",
       "48       49       NaN           NaN    NaN      NaN        Chicken         4   \n",
       "82       83       NaN           NaN    NaN      NaN           Meat         4   \n",
       "89       90       NaN           NaN    NaN      NaN           Pork         6   \n",
       "116     117       NaN           NaN    NaN      NaN        Chicken         6   \n",
       "121     122       NaN           NaN    NaN      NaN        Dessert         2   \n",
       "136     137       NaN           NaN    NaN      NaN  One Dish Meal         2   \n",
       "149     150       NaN           NaN    NaN      NaN         Potato         2   \n",
       "187     188       NaN           NaN    NaN      NaN           Pork         4   \n",
       "209     210       NaN           NaN    NaN      NaN        Dessert         2   \n",
       "212     213       NaN           NaN    NaN      NaN        Dessert         4   \n",
       "221     222       NaN           NaN    NaN      NaN        Dessert         1   \n",
       "249     250       NaN           NaN    NaN      NaN        Chicken         6   \n",
       "262     263       NaN           NaN    NaN      NaN        Chicken         4   \n",
       "278     279       NaN           NaN    NaN      NaN   Lunch/Snacks         4   \n",
       "280     281       NaN           NaN    NaN      NaN           Meat         1   \n",
       "297     298       NaN           NaN    NaN      NaN   Lunch/Snacks         6   \n",
       "326     327       NaN           NaN    NaN      NaN         Potato         4   \n",
       "351     352       NaN           NaN    NaN      NaN         Potato         4   \n",
       "354     355       NaN           NaN    NaN      NaN           Pork         4   \n",
       "372     373       NaN           NaN    NaN      NaN      Vegetable         2   \n",
       "376     377       NaN           NaN    NaN      NaN           Pork         6   \n",
       "388     389       NaN           NaN    NaN      NaN   Lunch/Snacks         4   \n",
       "405     406       NaN           NaN    NaN      NaN      Vegetable         4   \n",
       "427     428       NaN           NaN    NaN      NaN      Vegetable         4   \n",
       "455     456       NaN           NaN    NaN      NaN           Pork         6   \n",
       "468     469     27.11         22.63   4.93      NaN      Beverages         1   \n",
       "530     531       NaN           NaN    NaN      NaN      Vegetable         1   \n",
       "534     535       NaN           NaN    NaN      NaN        Chicken         2   \n",
       "538     539       NaN           NaN    NaN      NaN      Vegetable         4   \n",
       "545     546       NaN           NaN    NaN      NaN        Chicken         6   \n",
       "555     556       NaN           NaN    NaN      NaN           Meat         2   \n",
       "573     574       NaN           NaN    NaN      NaN   Lunch/Snacks         4   \n",
       "581     582       NaN           NaN    NaN      NaN        Chicken         1   \n",
       "608     609       NaN           NaN    NaN      NaN        Chicken         4   \n",
       "674     675       NaN           NaN    NaN      NaN           Pork         4   \n",
       "683     684       NaN           NaN    NaN      NaN         Potato         1   \n",
       "711     712       NaN           NaN    NaN      NaN   Lunch/Snacks         4   \n",
       "712     713       NaN           NaN    NaN      NaN           Pork         6   \n",
       "749     750       NaN           NaN    NaN      NaN        Dessert         4   \n",
       "765     766       NaN           NaN    NaN      NaN           Pork         1   \n",
       "772     773       NaN           NaN    NaN      NaN  One Dish Meal         4   \n",
       "812     813    550.71         11.53   0.35      NaN         Potato         2   \n",
       "851     852       NaN           NaN    NaN      NaN   Lunch/Snacks         4   \n",
       "859     860       NaN           NaN    NaN      NaN  One Dish Meal         4   \n",
       "865     866       NaN           NaN    NaN      NaN   Lunch/Snacks         6   \n",
       "890     891       NaN           NaN    NaN      NaN           Meat         4   \n",
       "893     894       NaN           NaN    NaN      NaN  One Dish Meal         4   \n",
       "896     897       NaN           NaN    NaN      NaN        Chicken         6   \n",
       "911     912       NaN           NaN    NaN      NaN        Dessert         6   \n",
       "918     919       NaN           NaN    NaN      NaN           Pork         6   \n",
       "938     939       NaN           NaN    NaN      NaN           Pork         4   \n",
       "943     944       NaN           NaN    NaN      NaN         Potato         2   \n",
       "\n",
       "    high_traffic  \n",
       "0           High  \n",
       "23           Low  \n",
       "48           Low  \n",
       "82          High  \n",
       "89          High  \n",
       "116         High  \n",
       "121         High  \n",
       "136         High  \n",
       "149         High  \n",
       "187         High  \n",
       "209         High  \n",
       "212         High  \n",
       "221          Low  \n",
       "249          Low  \n",
       "262          Low  \n",
       "278         High  \n",
       "280         High  \n",
       "297          Low  \n",
       "326         High  \n",
       "351         High  \n",
       "354         High  \n",
       "372         High  \n",
       "376         High  \n",
       "388         High  \n",
       "405         High  \n",
       "427         High  \n",
       "455         High  \n",
       "468          Low  \n",
       "530         High  \n",
       "534         High  \n",
       "538         High  \n",
       "545         High  \n",
       "555          Low  \n",
       "573          Low  \n",
       "581          Low  \n",
       "608          Low  \n",
       "674         High  \n",
       "683         High  \n",
       "711         High  \n",
       "712         High  \n",
       "749         High  \n",
       "765         High  \n",
       "772          Low  \n",
       "812         High  \n",
       "851         High  \n",
       "859          Low  \n",
       "865         High  \n",
       "890         High  \n",
       "893          Low  \n",
       "896         High  \n",
       "911         High  \n",
       "918         High  \n",
       "938         High  \n",
       "943         High  "
      ]
     },
     "execution_count": 17,
     "metadata": {},
     "output_type": "execute_result"
    }
   ],
   "source": [
    "df[df.isnull().any(axis=1)]"
   ]
  },
  {
   "cell_type": "markdown",
   "id": "19dbc183",
   "metadata": {},
   "source": [
    "- missing values appear to be MCAR"
   ]
  },
  {
   "cell_type": "code",
   "execution_count": 18,
   "id": "2da413b2",
   "metadata": {},
   "outputs": [
    {
     "data": {
      "image/png": "[encoded data removed]",
      "text/plain": [
       "<Figure size 864x576 with 2 Axes>"
      ]
     },
     "metadata": {
      "needs_background": "light"
     },
     "output_type": "display_data"
    }
   ],
   "source": [
    "plt.subplots(figsize=(12,8))\n",
    "sns.heatmap(df.corr(),annot=True,cmap='Blues')\n",
    "plt.title('Correlation',size=20)\n",
    "plt.show()"
   ]
  },
  {
   "cell_type": "markdown",
   "id": "a1f141b2",
   "metadata": {},
   "source": [
    "- i will try to use KNN ,Iterative ,mean ,median and choose one with highest CV "
   ]
  },
  {
   "cell_type": "code",
   "execution_count": 19,
   "id": "1ca70a78",
   "metadata": {},
   "outputs": [],
   "source": [
    "df1 = df.copy()"
   ]
  },
  {
   "cell_type": "code",
   "execution_count": 20,
   "id": "8c0e44ba",
   "metadata": {},
   "outputs": [],
   "source": [
    "from sklearn.preprocessing import RobustScaler ,PowerTransformer\n",
    "from sklearn.compose import ColumnTransformer\n",
    "from sklearn.pipeline import make_pipeline\n",
    "from sklearn.model_selection import cross_val_score ,StratifiedKFold\n",
    "from sklearn.experimental import enable_iterative_imputer\n",
    "from sklearn.impute import KNNImputer ,SimpleImputer,IterativeImputer\n",
    "from sklearn.linear_model import LogisticRegression"
   ]
  },
  {
   "cell_type": "code",
   "execution_count": 21,
   "id": "7eea1736",
   "metadata": {},
   "outputs": [],
   "source": [
    "df1['high_traffic'] = (df1['high_traffic']=='High').astype(int)"
   ]
  },
  {
   "cell_type": "code",
   "execution_count": 22,
   "id": "697b133f",
   "metadata": {},
   "outputs": [],
   "source": [
    "df1 = pd.get_dummies(df1,drop_first=True)"
   ]
  },
  {
   "cell_type": "code",
   "execution_count": 23,
   "id": "01f327bf",
   "metadata": {},
   "outputs": [],
   "source": [
    "df1.drop(columns='recipe',inplace=True)"
   ]
  },
  {
   "cell_type": "code",
   "execution_count": 24,
   "id": "c5c32f96",
   "metadata": {},
   "outputs": [
    {
     "data": {
      "image/png": "[encoded data removed]",
      "text/plain": [
       "<Figure size 864x576 with 1 Axes>"
      ]
     },
     "metadata": {
      "needs_background": "light"
     },
     "output_type": "display_data"
    }
   ],
   "source": [
    "plt.subplots(figsize=(12,8))\n",
    "df1['calories'].plot.hist(color='skyblue')\n",
    "plt.xlabel('calories')\n",
    "plt.title('calories distribution',size=20)\n",
    "plt.box(False)\n",
    "plt.show()"
   ]
  },
  {
   "cell_type": "markdown",
   "id": "31908997",
   "metadata": {},
   "source": [
    "Most calories per recipe 0.14 to 650"
   ]
  },
  {
   "cell_type": "code",
   "execution_count": 25,
   "id": "eb98f54f",
   "metadata": {},
   "outputs": [
    {
     "data": {
      "image/png": "[encoded data removed]",
      "text/plain": [
       "<Figure size 864x576 with 1 Axes>"
      ]
     },
     "metadata": {
      "needs_background": "light"
     },
     "output_type": "display_data"
    }
   ],
   "source": [
    "plt.subplots(figsize=(12,8))\n",
    "df1['protein'].plot.hist(color='skyblue')\n",
    "plt.xlabel('protein')\n",
    "plt.title('protein distribution',size=20)\n",
    "plt.box(False)\n",
    "plt.show()"
   ]
  },
  {
   "cell_type": "markdown",
   "id": "0f2ea228",
   "metadata": {},
   "source": [
    "- Most Protein per recipe between 0.01 to 37.5"
   ]
  },
  {
   "cell_type": "code",
   "execution_count": 26,
   "id": "13f15243",
   "metadata": {},
   "outputs": [
    {
     "data": {
      "image/png": "[encoded data removed]",
      "text/plain": [
       "<Figure size 864x576 with 1 Axes>"
      ]
     },
     "metadata": {
      "needs_background": "light"
     },
     "output_type": "display_data"
    }
   ],
   "source": [
    "plt.subplots(figsize=(12,8))\n",
    "plt.box(False)\n",
    "df1['carbohydrate'].plot.hist(color='skyblue')\n",
    "plt.xlabel('carbohydrate')\n",
    "plt.title('carbohydrate distribution',size=20)\n",
    "plt.show()"
   ]
  },
  {
   "cell_type": "markdown",
   "id": "76dfa7de",
   "metadata": {},
   "source": [
    "- Most carbohydrate per recipe between 0.03 to 45 "
   ]
  },
  {
   "cell_type": "code",
   "execution_count": 27,
   "id": "5c82d940",
   "metadata": {},
   "outputs": [
    {
     "data": {
      "image/png": "[encoded data removed]",
      "text/plain": [
       "<Figure size 864x576 with 1 Axes>"
      ]
     },
     "metadata": {
      "needs_background": "light"
     },
     "output_type": "display_data"
    }
   ],
   "source": [
    "plt.subplots(figsize=(12,8))\n",
    "plt.box(False)\n",
    "df1['sugar'].plot.hist(color='skyblue')\n",
    "plt.xlabel('sugar')\n",
    "plt.title('sugar distribution',size=20)\n",
    "plt.show()"
   ]
  },
  {
   "cell_type": "markdown",
   "id": "a6e7457a",
   "metadata": {},
   "source": [
    "- Most carbohydrate per recipe between 0.01 to 18"
   ]
  },
  {
   "cell_type": "markdown",
   "id": "4d5e0453",
   "metadata": {},
   "source": [
    "- all features that have missing values are skewed and have outliers"
   ]
  },
  {
   "cell_type": "markdown",
   "id": "5ae1a23c",
   "metadata": {},
   "source": [
    "- I have two choices now. The first one is to transform the distribution of columns that have missing values to normal using Cox-Box transformation because their distributions are not normal, which violates the assumptions of linear models. Then, I can apply iterative imputer with a linear model. Alternatively, instead of transforming the data and then applying iterative imputer, I can use non-linear models with iterative imputer, which do not make any assumptions about the data distribution. Additionally, I should scale the data to have the same ranges because any model can be biased towards high variance features, which can lead to the domination of the high variance feature in the calculation and ignore other features that may be more important. This can give us misleading results. Similarly, with KNN imputer, which calculates distance, the same thing can happen."
   ]
  },
  {
   "cell_type": "code",
   "execution_count": 28,
   "id": "275fffe2",
   "metadata": {},
   "outputs": [],
   "source": [
    "X = df1.drop(columns='high_traffic')\n",
    "y = df1['high_traffic']"
   ]
  },
  {
   "cell_type": "code",
   "execution_count": 29,
   "id": "90f634e7",
   "metadata": {},
   "outputs": [],
   "source": [
    "Continuous_Columns = [_ for _ in X.select_dtypes(include=float).columns]"
   ]
  },
  {
   "cell_type": "code",
   "execution_count": 30,
   "id": "7934d70d",
   "metadata": {},
   "outputs": [],
   "source": [
    "CT = ColumnTransformer(transformers=[('Distribution_Transforming',PowerTransformer(method='box-cox',standardize=False),Continuous_Columns)])"
   ]
  },
  {
   "cell_type": "code",
   "execution_count": 31,
   "id": "a704857a",
   "metadata": {},
   "outputs": [],
   "source": [
    "IterativeImputer = make_pipeline(CT,RobustScaler(),IterativeImputer(random_state=42),LogisticRegression(max_iter=1000,random_state=42))\n",
    "KNNImputer = make_pipeline(CT,RobustScaler(),KNNImputer(),LogisticRegression(max_iter=1000,random_state=42))\n",
    "SimpleImputer_mean = make_pipeline(SimpleImputer(strategy='mean'),LogisticRegression(max_iter=1000,random_state=42))\n",
    "SimpleImputer_median = make_pipeline(SimpleImputer(strategy='median'),LogisticRegression(max_iter=1000,random_state=42))"
   ]
  },
  {
   "cell_type": "code",
   "execution_count": 32,
   "id": "4a0ac35c",
   "metadata": {},
   "outputs": [],
   "source": [
    "IM=cross_val_score(IterativeImputer,X,y,cv=StratifiedKFold(n_splits=8,shuffle=True,random_state=42))\n",
    "KI=cross_val_score(KNNImputer,X,y,cv=StratifiedKFold(n_splits=8,shuffle=True,random_state=42))\n",
    "MI=cross_val_score(SimpleImputer_mean,X,y,cv=StratifiedKFold(n_splits=8,shuffle=True,random_state=42))\n",
    "MEI=cross_val_score(SimpleImputer_median,X,y,cv=StratifiedKFold(n_splits=8,shuffle=True,random_state=42))"
   ]
  },
  {
   "cell_type": "code",
   "execution_count": 33,
   "id": "6cf07c99",
   "metadata": {},
   "outputs": [
    {
     "data": {
      "text/plain": [
       "(0.6525957840763423,\n",
       " 0.01841025517226366,\n",
       " 0.6717828656886484,\n",
       " 0.6206754735792622)"
      ]
     },
     "execution_count": 33,
     "metadata": {},
     "output_type": "execute_result"
    }
   ],
   "source": [
    "np.mean(IM),np.std(IM),np.quantile(IM,0.975),np.quantile(IM,0.025)"
   ]
  },
  {
   "cell_type": "code",
   "execution_count": 34,
   "id": "0175d218",
   "metadata": {},
   "outputs": [
    {
     "data": {
      "text/plain": [
       "(0.6525957840763423,\n",
       " 0.01841025517226366,\n",
       " 0.6717828656886484,\n",
       " 0.6206754735792622)"
      ]
     },
     "execution_count": 34,
     "metadata": {},
     "output_type": "execute_result"
    }
   ],
   "source": [
    "np.mean(KI),np.std(KI),np.quantile(KI,0.975),np.quantile(KI,0.025)"
   ]
  },
  {
   "cell_type": "code",
   "execution_count": 35,
   "id": "c0e01488",
   "metadata": {},
   "outputs": [
    {
     "data": {
      "text/plain": [
       "(0.7581274035037744,\n",
       " 0.040204641138280886,\n",
       " 0.8064360489958695,\n",
       " 0.686864406779661)"
      ]
     },
     "execution_count": 35,
     "metadata": {},
     "output_type": "execute_result"
    }
   ],
   "source": [
    "np.mean(MI),np.std(MI),np.quantile(MI,0.975),np.quantile(MI,0.025)"
   ]
  },
  {
   "cell_type": "code",
   "execution_count": 36,
   "id": "e186d7cf",
   "metadata": {},
   "outputs": [
    {
     "data": {
      "text/plain": [
       "(0.757068081469876, 0.04040433245465524, 0.8064360489958695, 0.686864406779661)"
      ]
     },
     "execution_count": 36,
     "metadata": {},
     "output_type": "execute_result"
    }
   ],
   "source": [
    "np.mean(MEI),np.std(MEI),np.quantile(MEI,0.975),np.quantile(MEI,0.025)"
   ]
  },
  {
   "cell_type": "markdown",
   "id": "c766924d",
   "metadata": {},
   "source": [
    "- we will choose the method according to his CI ,STD ,MEAN\n",
    "- the Wider CI the more the model performance is inaccurate ,the smaller STD the mean is best method to calculate the model performance \n",
    "- mean and median methods are not good because of their CI and STD which are larger than another methods \n",
    "- KNN and Iterative Imputer give the same results ,so i will choose KNN Imputer because it doesn't make any assumption about the data then i will exclude distribution transformation from the process and just use scaling method "
   ]
  },
  {
   "cell_type": "code",
   "execution_count": 37,
   "id": "24813684",
   "metadata": {},
   "outputs": [
    {
     "data": {
      "image/png": "[encoded data removed]",
      "text/plain": [
       "<Figure size 576x576 with 1 Axes>"
      ]
     },
     "metadata": {},
     "output_type": "display_data"
    }
   ],
   "source": [
    "circle = plt.Circle((0,0),0.7,color='white')\n",
    "fig, ax = plt.subplots(figsize=(8,8))\n",
    "colors = ['#ff9999','#66b3ff','#99ff99','#ffcc99']\n",
    "wedges, texts, autotexts =ax.pie(df['category'].value_counts(), labels=[_ for _ in df['category'].value_counts().index], colors=colors, wedgeprops={'linewidth': 7, 'edgecolor': 'white'},autopct='%.0f%%',pctdistance=0.84)\n",
    "ax.add_artist(circle)\n",
    "plt.setp(autotexts, size=12, color='white')\n",
    "for label in texts:\n",
    "    label.set_fontsize(14)\n",
    "plt.title('Category Proportion',size=20)\n",
    "plt.show()\n"
   ]
  },
  {
   "cell_type": "markdown",
   "id": "0ed0b23d",
   "metadata": {},
   "source": [
    "most recipes are chicken recipes ,followed by breakfast ,beverages"
   ]
  },
  {
   "cell_type": "markdown",
   "id": "8bb3aefa",
   "metadata": {},
   "source": [
    "### Business Metric"
   ]
  },
  {
   "cell_type": "markdown",
   "id": "59a5518e",
   "metadata": {},
   "source": [
    "- \" percentage of traffic status for each recipe category \""
   ]
  },
  {
   "cell_type": "code",
   "execution_count": 38,
   "id": "d9bb6c67",
   "metadata": {},
   "outputs": [],
   "source": [
    "x = pd.DataFrame(df.groupby(['category','high_traffic'])['high_traffic'].count().div(df.groupby(['category'])['high_traffic'].count(),level='category')*100)\n",
    "\n",
    "x.columns=['percentage']\n",
    "\n",
    "x.reset_index(['high_traffic','category'],inplace=True)\n",
    "\n",
    "x = x.sort_values(by=['high_traffic','percentage'],ascending=[True,False])"
   ]
  },
  {
   "cell_type": "code",
   "execution_count": 39,
   "id": "a0554be2",
   "metadata": {},
   "outputs": [
    {
     "data": {
      "image/png": "[encoded data removed]",
      "text/plain": [
       "<Figure size 864x432 with 1 Axes>"
      ]
     },
     "metadata": {
      "needs_background": "light"
     },
     "output_type": "display_data"
    }
   ],
   "source": [
    "plt.subplots(figsize=(12,6))\n",
    "custom_palette = {'Low': 'tab:blue', 'High': 'tab:orange'}\n",
    "sns.barplot(data=x,y='category',x='percentage',hue='high_traffic',palette=['#3f69aa', '#87bdd8'],dodge=False,edgecolor='black')\n",
    "plt.title('Percentage Of Each Category For each Treffic Status',size=20)\n",
    "plt.box(False)\n",
    "plt.show()"
   ]
  },
  {
   "cell_type": "code",
   "execution_count": 40,
   "id": "adfd3c9d",
   "metadata": {},
   "outputs": [
    {
     "data": {
      "image/png": "[encoded data removed]",
      "text/plain": [
       "<Figure size 864x432 with 2 Axes>"
      ]
     },
     "metadata": {
      "needs_background": "light"
     },
     "output_type": "display_data"
    }
   ],
   "source": [
    "plt.subplots(figsize=(12,6))\n",
    "sns.heatmap(x.pivot_table(index='category',columns='high_traffic',values='percentage'),annot=True,cmap='Blues')\n",
    "plt.title('Percentage Of Each Category For Treffic Status',size=20)\n",
    "plt.show()"
   ]
  },
  {
   "cell_type": "markdown",
   "id": "41c99abb",
   "metadata": {},
   "source": [
    "The business is focusing on chicken recipes and breakfast, but neither is giving the business a high traffic for their website. If we look at the second chart, we can see that vegetable, potato, pork, and meat recipes are the recipes that receive high traffic from users. Additionally, when I looked at the first chart, I noticed that these recipes have a lower number of recipes, which could result in losing more users from the website and decrease the traffic."
   ]
  },
  {
   "cell_type": "code",
   "execution_count": 41,
   "id": "526b1e2d",
   "metadata": {},
   "outputs": [
    {
     "data": {
      "image/png": "[encoded data removed]",
      "text/plain": [
       "<Figure size 864x576 with 1 Axes>"
      ]
     },
     "metadata": {
      "needs_background": "light"
     },
     "output_type": "display_data"
    }
   ],
   "source": [
    "plt.subplots(figsize=(12,8))\n",
    "sns.scatterplot(data=df ,x='high_traffic',y='servings',hue='high_traffic',size='high_traffic')\n",
    "plt.title('Relation Between Traffic and Serving',size=20)\n",
    "plt.box(False)\n",
    "plt.show()"
   ]
  },
  {
   "cell_type": "markdown",
   "id": "81eb4fe2",
   "metadata": {},
   "source": [
    "- there is no relation between traffic and servings"
   ]
  },
  {
   "cell_type": "markdown",
   "id": "e4bcea5c",
   "metadata": {},
   "source": [
    "# Machine Learning "
   ]
  },
  {
   "cell_type": "markdown",
   "id": "0b6d54c2",
   "metadata": {},
   "source": [
    "Problem Type : Classification"
   ]
  },
  {
   "cell_type": "markdown",
   "id": "db9e2a33",
   "metadata": {},
   "source": [
    "### PreProcessing"
   ]
  },
  {
   "cell_type": "markdown",
   "id": "f219c3e1",
   "metadata": {},
   "source": [
    "#### Split the data into train and test"
   ]
  },
  {
   "cell_type": "code",
   "execution_count": 42,
   "id": "802ec926",
   "metadata": {},
   "outputs": [],
   "source": [
    "from sklearn.model_selection import train_test_split"
   ]
  },
  {
   "cell_type": "code",
   "execution_count": 43,
   "id": "f992e0fd",
   "metadata": {},
   "outputs": [],
   "source": [
    "X = df1.drop(columns='high_traffic')\n",
    "y = df1['high_traffic']"
   ]
  },
  {
   "cell_type": "code",
   "execution_count": 44,
   "id": "afdad7f1",
   "metadata": {},
   "outputs": [],
   "source": [
    "X_train ,X_test ,y_train ,y_test = train_test_split(X ,y ,stratify=y ,shuffle=True ,train_size=0.8 ,random_state=42)"
   ]
  },
  {
   "cell_type": "code",
   "execution_count": 45,
   "id": "ab2243b8",
   "metadata": {},
   "outputs": [
    {
     "data": {
      "text/plain": [
       "1    0.606341\n",
       "0    0.393659\n",
       "Name: high_traffic, dtype: float64"
      ]
     },
     "execution_count": 45,
     "metadata": {},
     "output_type": "execute_result"
    }
   ],
   "source": [
    "y_train.value_counts(normalize=True)"
   ]
  },
  {
   "cell_type": "code",
   "execution_count": 46,
   "id": "4b7813f3",
   "metadata": {},
   "outputs": [
    {
     "data": {
      "text/plain": [
       "1    0.606125\n",
       "0    0.393875\n",
       "Name: high_traffic, dtype: float64"
      ]
     },
     "execution_count": 46,
     "metadata": {},
     "output_type": "execute_result"
    }
   ],
   "source": [
    "y.value_counts(normalize=True)"
   ]
  },
  {
   "cell_type": "markdown",
   "id": "14fd8491",
   "metadata": {},
   "source": [
    "### Preprocessing + Baseline Model"
   ]
  },
  {
   "cell_type": "markdown",
   "id": "e29cd5fc",
   "metadata": {},
   "source": [
    "- because the business goal is to predict high traffic recipes so we don't need false negative of false positive ,so our score will be f-beta score with beta value which is focusing on false positive more than false negative because we don't need low traffic recipes to be selected as high traffic recipes which will decrease traffic on website"
   ]
  },
  {
   "cell_type": "code",
   "execution_count": 47,
   "id": "3d29e008",
   "metadata": {},
   "outputs": [],
   "source": [
    "from sklearn.impute import KNNImputer\n",
    "from sklearn.metrics import fbeta_score ,make_scorer"
   ]
  },
  {
   "cell_type": "code",
   "execution_count": 48,
   "id": "76e93d87",
   "metadata": {},
   "outputs": [],
   "source": [
    "f_beta = make_scorer(fbeta_score,beta=0.8)"
   ]
  },
  {
   "cell_type": "markdown",
   "id": "3d15f5af",
   "metadata": {},
   "source": [
    "Creating"
   ]
  },
  {
   "cell_type": "code",
   "execution_count": 49,
   "id": "2591db53",
   "metadata": {},
   "outputs": [],
   "source": [
    "BaseLine_model = make_pipeline(RobustScaler(),KNNImputer(),LogisticRegression(class_weight='balanced',random_state=42))"
   ]
  },
  {
   "cell_type": "markdown",
   "id": "7fc81df2",
   "metadata": {},
   "source": [
    "Calculate Cross Validation Score"
   ]
  },
  {
   "cell_type": "code",
   "execution_count": 50,
   "id": "8b80bd1d",
   "metadata": {},
   "outputs": [],
   "source": [
    "Baseline_Cross_validation_Scores = cross_val_score(BaseLine_model,X_train,y_train,cv=StratifiedKFold(n_splits=8,shuffle=True,random_state=42),scoring=f_beta)"
   ]
  },
  {
   "cell_type": "code",
   "execution_count": 51,
   "id": "2170ce70",
   "metadata": {},
   "outputs": [
    {
     "data": {
      "text/plain": [
       "(0.768002282246343,\n",
       " 0.023186353848357922,\n",
       " 0.7996421468339355,\n",
       " 0.7333971079601509)"
      ]
     },
     "execution_count": 51,
     "metadata": {},
     "output_type": "execute_result"
    }
   ],
   "source": [
    "np.mean(Baseline_Cross_validation_Scores),np.std(Baseline_Cross_validation_Scores),np.quantile(Baseline_Cross_validation_Scores,0.975),np.quantile(Baseline_Cross_validation_Scores,0.025)"
   ]
  },
  {
   "cell_type": "markdown",
   "id": "e0948f76",
   "metadata": {},
   "source": [
    "Calculating Training Score"
   ]
  },
  {
   "cell_type": "code",
   "execution_count": 52,
   "id": "461b942b",
   "metadata": {},
   "outputs": [
    {
     "data": {
      "text/html": [
       "<style>#sk-container-id-1 {color: black;background-color: white;}#sk-container-id-1 pre{padding: 0;}#sk-container-id-1 div.sk-toggleable {background-color: white;}#sk-container-id-1 label.sk-toggleable__label {cursor: pointer;display: block;width: 100%;margin-bottom: 0;padding: 0.3em;box-sizing: border-box;text-align: center;}#sk-container-id-1 label.sk-toggleable__label-arrow:before {content: \"▸\";float: left;margin-right: 0.25em;color: #696969;}#sk-container-id-1 label.sk-toggleable__label-arrow:hover:before {color: black;}#sk-container-id-1 div.sk-estimator:hover label.sk-toggleable__label-arrow:before {color: black;}#sk-container-id-1 div.sk-toggleable__content {max-height: 0;max-width: 0;overflow: hidden;text-align: left;background-color: #f0f8ff;}#sk-container-id-1 div.sk-toggleable__content pre {margin: 0.2em;color: black;border-radius: 0.25em;background-color: #f0f8ff;}#sk-container-id-1 input.sk-toggleable__control:checked~div.sk-toggleable__content {max-height: 200px;max-width: 100%;overflow: auto;}#sk-container-id-1 input.sk-toggleable__control:checked~label.sk-toggleable__label-arrow:before {content: \"▾\";}#sk-container-id-1 div.sk-estimator input.sk-toggleable__control:checked~label.sk-toggleable__label {background-color: #d4ebff;}#sk-container-id-1 div.sk-label input.sk-toggleable__control:checked~label.sk-toggleable__label {background-color: #d4ebff;}#sk-container-id-1 input.sk-hidden--visually {border: 0;clip: rect(1px 1px 1px 1px);clip: rect(1px, 1px, 1px, 1px);height: 1px;margin: -1px;overflow: hidden;padding: 0;position: absolute;width: 1px;}#sk-container-id-1 div.sk-estimator {font-family: monospace;background-color: #f0f8ff;border: 1px dotted black;border-radius: 0.25em;box-sizing: border-box;margin-bottom: 0.5em;}#sk-container-id-1 div.sk-estimator:hover {background-color: #d4ebff;}#sk-container-id-1 div.sk-parallel-item::after {content: \"\";width: 100%;border-bottom: 1px solid gray;flex-grow: 1;}#sk-container-id-1 div.sk-label:hover label.sk-toggleable__label {background-color: #d4ebff;}#sk-container-id-1 div.sk-serial::before {content: \"\";position: absolute;border-left: 1px solid gray;box-sizing: border-box;top: 0;bottom: 0;left: 50%;z-index: 0;}#sk-container-id-1 div.sk-serial {display: flex;flex-direction: column;align-items: center;background-color: white;padding-right: 0.2em;padding-left: 0.2em;position: relative;}#sk-container-id-1 div.sk-item {position: relative;z-index: 1;}#sk-container-id-1 div.sk-parallel {display: flex;align-items: stretch;justify-content: center;background-color: white;position: relative;}#sk-container-id-1 div.sk-item::before, #sk-container-id-1 div.sk-parallel-item::before {content: \"\";position: absolute;border-left: 1px solid gray;box-sizing: border-box;top: 0;bottom: 0;left: 50%;z-index: -1;}#sk-container-id-1 div.sk-parallel-item {display: flex;flex-direction: column;z-index: 1;position: relative;background-color: white;}#sk-container-id-1 div.sk-parallel-item:first-child::after {align-self: flex-end;width: 50%;}#sk-container-id-1 div.sk-parallel-item:last-child::after {align-self: flex-start;width: 50%;}#sk-container-id-1 div.sk-parallel-item:only-child::after {width: 0;}#sk-container-id-1 div.sk-dashed-wrapped {border: 1px dashed gray;margin: 0 0.4em 0.5em 0.4em;box-sizing: border-box;padding-bottom: 0.4em;background-color: white;}#sk-container-id-1 div.sk-label label {font-family: monospace;font-weight: bold;display: inline-block;line-height: 1.2em;}#sk-container-id-1 div.sk-label-container {text-align: center;}#sk-container-id-1 div.sk-container {/* jupyter's `normalize.less` sets `[hidden] { display: none; }` but bootstrap.min.css set `[hidden] { display: none !important; }` so we also need the `!important` here to be able to override the default hidden behavior on the sphinx rendered scikit-learn.org. See: https://github.com/scikit-learn/scikit-learn/issues/21755 */display: inline-block !important;position: relative;}#sk-container-id-1 div.sk-text-repr-fallback {display: none;}</style><div id=\"sk-container-id-1\" class=\"sk-top-container\"><div class=\"sk-text-repr-fallback\"><pre>Pipeline(steps=[(&#x27;robustscaler&#x27;, RobustScaler()), (&#x27;knnimputer&#x27;, KNNImputer()),\n",
       "                (&#x27;logisticregression&#x27;,\n",
       "                 LogisticRegression(class_weight=&#x27;balanced&#x27;, random_state=42))])</pre><b>In a Jupyter environment, please rerun this cell to show the HTML representation or trust the notebook. <br />On GitHub, the HTML representation is unable to render, please try loading this page with nbviewer.org.</b></div><div class=\"sk-container\" hidden><div class=\"sk-item sk-dashed-wrapped\"><div class=\"sk-label-container\"><div class=\"sk-label sk-toggleable\"><input class=\"sk-toggleable__control sk-hidden--visually\" id=\"sk-estimator-id-1\" type=\"checkbox\" ><label for=\"sk-estimator-id-1\" class=\"sk-toggleable__label sk-toggleable__label-arrow\">Pipeline</label><div class=\"sk-toggleable__content\"><pre>Pipeline(steps=[(&#x27;robustscaler&#x27;, RobustScaler()), (&#x27;knnimputer&#x27;, KNNImputer()),\n",
       "                (&#x27;logisticregression&#x27;,\n",
       "                 LogisticRegression(class_weight=&#x27;balanced&#x27;, random_state=42))])</pre></div></div></div><div class=\"sk-serial\"><div class=\"sk-item\"><div class=\"sk-estimator sk-toggleable\"><input class=\"sk-toggleable__control sk-hidden--visually\" id=\"sk-estimator-id-2\" type=\"checkbox\" ><label for=\"sk-estimator-id-2\" class=\"sk-toggleable__label sk-toggleable__label-arrow\">RobustScaler</label><div class=\"sk-toggleable__content\"><pre>RobustScaler()</pre></div></div></div><div class=\"sk-item\"><div class=\"sk-estimator sk-toggleable\"><input class=\"sk-toggleable__control sk-hidden--visually\" id=\"sk-estimator-id-3\" type=\"checkbox\" ><label for=\"sk-estimator-id-3\" class=\"sk-toggleable__label sk-toggleable__label-arrow\">KNNImputer</label><div class=\"sk-toggleable__content\"><pre>KNNImputer()</pre></div></div></div><div class=\"sk-item\"><div class=\"sk-estimator sk-toggleable\"><input class=\"sk-toggleable__control sk-hidden--visually\" id=\"sk-estimator-id-4\" type=\"checkbox\" ><label for=\"sk-estimator-id-4\" class=\"sk-toggleable__label sk-toggleable__label-arrow\">LogisticRegression</label><div class=\"sk-toggleable__content\"><pre>LogisticRegression(class_weight=&#x27;balanced&#x27;, random_state=42)</pre></div></div></div></div></div></div></div>"
      ],
      "text/plain": [
       "Pipeline(steps=[('robustscaler', RobustScaler()), ('knnimputer', KNNImputer()),\n",
       "                ('logisticregression',\n",
       "                 LogisticRegression(class_weight='balanced', random_state=42))])"
      ]
     },
     "execution_count": 52,
     "metadata": {},
     "output_type": "execute_result"
    }
   ],
   "source": [
    "BaseLine_model.fit(X_train,y_train)"
   ]
  },
  {
   "cell_type": "code",
   "execution_count": 53,
   "id": "e431800a",
   "metadata": {},
   "outputs": [
    {
     "data": {
      "text/plain": [
       "0.7752399676188273"
      ]
     },
     "execution_count": 53,
     "metadata": {},
     "output_type": "execute_result"
    }
   ],
   "source": [
    "fbeta_score(y_train,BaseLine_model.predict(X_train),beta=0.8)"
   ]
  },
  {
   "cell_type": "markdown",
   "id": "081f3486",
   "metadata": {},
   "source": [
    "- no overfitting problem  \n",
    "|Cross Validation|Training|\n",
    "|---|---|\n",
    "|0.768|0.775|\n",
    "- CI is narrower ,so the average performance of CVS is close to the true performance ,Considering to STD which is small "
   ]
  },
  {
   "cell_type": "markdown",
   "id": "cd17f456",
   "metadata": {},
   "source": [
    "#### Lets Checks The Logistics Regression Assumptions "
   ]
  },
  {
   "cell_type": "code",
   "execution_count": 54,
   "id": "8cd754ca",
   "metadata": {},
   "outputs": [],
   "source": [
    "predictors = X_train.copy()\n",
    "RS = RobustScaler()\n",
    "KNN = KNNImputer()\n",
    "predictors = pd.DataFrame(RS.fit_transform(predictors),columns=RS.get_feature_names_out())\n",
    "predictors = pd.DataFrame(KNN.fit_transform(predictors),columns=RS.get_feature_names_out())"
   ]
  },
  {
   "cell_type": "markdown",
   "id": "4cc873ab",
   "metadata": {},
   "source": [
    "##### Assumption 1— Appropriate Outcome Type\n",
    "- so the type of logistic regression utilized (binary, multinomial, or ordinal) must match the outcome (dependent) variable in the dataset."
   ]
  },
  {
   "cell_type": "code",
   "execution_count": 55,
   "id": "f8034dab",
   "metadata": {},
   "outputs": [
    {
     "data": {
      "text/plain": [
       "array([1, 0])"
      ]
     },
     "execution_count": 55,
     "metadata": {},
     "output_type": "execute_result"
    }
   ],
   "source": [
    "y.unique()"
   ]
  },
  {
   "cell_type": "markdown",
   "id": "213f8f59",
   "metadata": {},
   "source": [
    "- the assumption is satisfied."
   ]
  },
  {
   "cell_type": "markdown",
   "id": "8932e076",
   "metadata": {},
   "source": [
    "#### Assumption 2 — Linearity of independent variables and log-odds\n"
   ]
  },
  {
   "cell_type": "code",
   "execution_count": 56,
   "id": "00ee68b4",
   "metadata": {},
   "outputs": [
    {
     "data": {
      "image/png": "[encoded data removed]",
      "text/plain": [
       "<Figure size 432x288 with 1 Axes>"
      ]
     },
     "metadata": {
      "needs_background": "light"
     },
     "output_type": "display_data"
    }
   ],
   "source": [
    "sns.scatterplot(x=predictors['calories'],y=BaseLine_model.predict_log_proba(X_train)[:,1]-BaseLine_model.predict_log_proba(X_train)[:,0])\n",
    "plt.title('Relation Between Logit and calories')\n",
    "plt.show()"
   ]
  },
  {
   "cell_type": "code",
   "execution_count": 57,
   "id": "3e2861ee",
   "metadata": {},
   "outputs": [
    {
     "data": {
      "image/png": "[encoded data removed]",
      "text/plain": [
       "<Figure size 432x288 with 1 Axes>"
      ]
     },
     "metadata": {
      "needs_background": "light"
     },
     "output_type": "display_data"
    }
   ],
   "source": [
    "sns.scatterplot(x=predictors['carbohydrate'],y=BaseLine_model.predict_log_proba(X_train)[:,1]-BaseLine_model.predict_log_proba(X_train)[:,0])\n",
    "plt.title('Relation Between Logit and carbohydrate')\n",
    "plt.show()"
   ]
  },
  {
   "cell_type": "code",
   "execution_count": 58,
   "id": "d495a285",
   "metadata": {},
   "outputs": [
    {
     "data": {
      "image/png": "[encoded data removed]",
      "text/plain": [
       "<Figure size 432x288 with 1 Axes>"
      ]
     },
     "metadata": {
      "needs_background": "light"
     },
     "output_type": "display_data"
    }
   ],
   "source": [
    "sns.scatterplot(x=predictors['sugar'],y=BaseLine_model.predict_log_proba(X_train)[:,1]-BaseLine_model.predict_log_proba(X_train)[:,0])\n",
    "plt.title('Relation Between Logit and sugar')\n",
    "plt.show()"
   ]
  },
  {
   "cell_type": "code",
   "execution_count": 59,
   "id": "39837f17",
   "metadata": {},
   "outputs": [
    {
     "data": {
      "image/png": "[encoded data removed]",
      "text/plain": [
       "<Figure size 432x288 with 1 Axes>"
      ]
     },
     "metadata": {
      "needs_background": "light"
     },
     "output_type": "display_data"
    }
   ],
   "source": [
    "sns.scatterplot(x=predictors['protein'],y=BaseLine_model.predict_log_proba(X_train)[:,1]-BaseLine_model.predict_log_proba(X_train)[:,0])\n",
    "plt.title('Relation Between Logit and protein')\n",
    "plt.show()"
   ]
  },
  {
   "cell_type": "code",
   "execution_count": 60,
   "id": "de3e7c21",
   "metadata": {},
   "outputs": [],
   "source": [
    "Assu2 = pd.merge(predictors[['calories', 'carbohydrate', 'sugar', 'protein']],pd.DataFrame(BaseLine_model.predict_log_proba(X_train)[:,1]-BaseLine_model.predict_log_proba(X_train)[:,0]),left_index=True ,right_index=True)"
   ]
  },
  {
   "cell_type": "code",
   "execution_count": 61,
   "id": "b30dbae0",
   "metadata": {},
   "outputs": [
    {
     "data": {
      "image/png": "[encoded data removed]",
      "text/plain": [
       "<Figure size 864x576 with 2 Axes>"
      ]
     },
     "metadata": {
      "needs_background": "light"
     },
     "output_type": "display_data"
    }
   ],
   "source": [
    "plt.subplots(figsize=(12,8))\n",
    "sns.heatmap(Assu2.corr(),annot=True,cmap='Blues')\n",
    "plt.title('Correlation Metrix')\n",
    "plt.show()"
   ]
  },
  {
   "cell_type": "markdown",
   "id": "35a6939f",
   "metadata": {},
   "source": [
    "- second assumption is violated"
   ]
  },
  {
   "cell_type": "markdown",
   "id": "b4837402",
   "metadata": {},
   "source": [
    "### Assumption 3 — Absence of Multicollinearity"
   ]
  },
  {
   "cell_type": "code",
   "execution_count": 62,
   "id": "48c874f4",
   "metadata": {},
   "outputs": [],
   "source": [
    "from statsmodels.stats.outliers_influence import variance_inflation_factor\n",
    "import statsmodels.api as sm"
   ]
  },
  {
   "cell_type": "code",
   "execution_count": 63,
   "id": "e1ed9286",
   "metadata": {},
   "outputs": [],
   "source": [
    "predictors = predictors.assign(constant=1)\n",
    "vif = pd.DataFrame()\n",
    "vif[\"VIF Factor\"] = [variance_inflation_factor(predictors, i) for i in range(predictors.shape[1])]\n",
    "vif[\"Predictor\"] = predictors.columns\n"
   ]
  },
  {
   "cell_type": "code",
   "execution_count": 64,
   "id": "a23ad6b2",
   "metadata": {},
   "outputs": [
    {
     "data": {
      "text/html": [
       "<div>\n",
       "<style scoped>\n",
       "    .dataframe tbody tr th:only-of-type {\n",
       "        vertical-align: middle;\n",
       "    }\n",
       "\n",
       "    .dataframe tbody tr th {\n",
       "        vertical-align: top;\n",
       "    }\n",
       "\n",
       "    .dataframe thead th {\n",
       "        text-align: right;\n",
       "    }\n",
       "</style>\n",
       "<table border=\"1\" class=\"dataframe\">\n",
       "  <thead>\n",
       "    <tr style=\"text-align: right;\">\n",
       "      <th></th>\n",
       "      <th>VIF Factor</th>\n",
       "      <th>Predictor</th>\n",
       "    </tr>\n",
       "  </thead>\n",
       "  <tbody>\n",
       "    <tr>\n",
       "      <th>0</th>\n",
       "      <td>1.120951</td>\n",
       "      <td>calories</td>\n",
       "    </tr>\n",
       "    <tr>\n",
       "      <th>1</th>\n",
       "      <td>1.124653</td>\n",
       "      <td>carbohydrate</td>\n",
       "    </tr>\n",
       "    <tr>\n",
       "      <th>2</th>\n",
       "      <td>1.533786</td>\n",
       "      <td>sugar</td>\n",
       "    </tr>\n",
       "    <tr>\n",
       "      <th>3</th>\n",
       "      <td>1.319243</td>\n",
       "      <td>protein</td>\n",
       "    </tr>\n",
       "    <tr>\n",
       "      <th>4</th>\n",
       "      <td>1.024133</td>\n",
       "      <td>servings</td>\n",
       "    </tr>\n",
       "    <tr>\n",
       "      <th>5</th>\n",
       "      <td>2.047808</td>\n",
       "      <td>category_Breakfast</td>\n",
       "    </tr>\n",
       "    <tr>\n",
       "      <th>6</th>\n",
       "      <td>3.026708</td>\n",
       "      <td>category_Chicken</td>\n",
       "    </tr>\n",
       "    <tr>\n",
       "      <th>7</th>\n",
       "      <td>2.161867</td>\n",
       "      <td>category_Dessert</td>\n",
       "    </tr>\n",
       "    <tr>\n",
       "      <th>8</th>\n",
       "      <td>2.037628</td>\n",
       "      <td>category_Lunch/Snacks</td>\n",
       "    </tr>\n",
       "    <tr>\n",
       "      <th>9</th>\n",
       "      <td>2.033200</td>\n",
       "      <td>category_Meat</td>\n",
       "    </tr>\n",
       "    <tr>\n",
       "      <th>10</th>\n",
       "      <td>1.936315</td>\n",
       "      <td>category_One Dish Meal</td>\n",
       "    </tr>\n",
       "    <tr>\n",
       "      <th>11</th>\n",
       "      <td>2.150753</td>\n",
       "      <td>category_Pork</td>\n",
       "    </tr>\n",
       "    <tr>\n",
       "      <th>12</th>\n",
       "      <td>2.162734</td>\n",
       "      <td>category_Potato</td>\n",
       "    </tr>\n",
       "    <tr>\n",
       "      <th>13</th>\n",
       "      <td>1.819405</td>\n",
       "      <td>category_Vegetable</td>\n",
       "    </tr>\n",
       "    <tr>\n",
       "      <th>14</th>\n",
       "      <td>12.182569</td>\n",
       "      <td>constant</td>\n",
       "    </tr>\n",
       "  </tbody>\n",
       "</table>\n",
       "</div>"
      ],
      "text/plain": [
       "    VIF Factor               Predictor\n",
       "0     1.120951                calories\n",
       "1     1.124653            carbohydrate\n",
       "2     1.533786                   sugar\n",
       "3     1.319243                 protein\n",
       "4     1.024133                servings\n",
       "5     2.047808      category_Breakfast\n",
       "6     3.026708        category_Chicken\n",
       "7     2.161867        category_Dessert\n",
       "8     2.037628   category_Lunch/Snacks\n",
       "9     2.033200           category_Meat\n",
       "10    1.936315  category_One Dish Meal\n",
       "11    2.150753           category_Pork\n",
       "12    2.162734         category_Potato\n",
       "13    1.819405      category_Vegetable\n",
       "14   12.182569                constant"
      ]
     },
     "execution_count": 64,
     "metadata": {},
     "output_type": "execute_result"
    }
   ],
   "source": [
    "vif"
   ]
  },
  {
   "cell_type": "markdown",
   "id": "6bbde961",
   "metadata": {},
   "source": [
    "- the assumption is satisfied."
   ]
  },
  {
   "cell_type": "markdown",
   "id": "f1a2c1aa",
   "metadata": {},
   "source": [
    "### Assumption 4— No strongly influential outliers"
   ]
  },
  {
   "cell_type": "code",
   "execution_count": 65,
   "id": "b092c439",
   "metadata": {},
   "outputs": [],
   "source": [
    "y_prob = BaseLine_model.predict_proba(X_train)"
   ]
  },
  {
   "cell_type": "code",
   "execution_count": 66,
   "id": "4e32ddd8",
   "metadata": {},
   "outputs": [
    {
     "data": {
      "text/plain": [
       "array([691, 349], dtype=int64)"
      ]
     },
     "execution_count": 66,
     "metadata": {},
     "output_type": "execute_result"
    }
   ],
   "source": [
    "model = sm.OLS(y_prob[:,1], predictors)\n",
    "results = model.fit()\n",
    "influence = results.get_influence().cooks_distance[0]\n",
    "np.argsort(influence)[-2:]"
   ]
  },
  {
   "cell_type": "code",
   "execution_count": 67,
   "id": "8bc8baa7",
   "metadata": {},
   "outputs": [
    {
     "data": {
      "image/png": "[encoded data removed]",
      "text/plain": [
       "<Figure size 432x288 with 1 Axes>"
      ]
     },
     "metadata": {
      "needs_background": "light"
     },
     "output_type": "display_data"
    }
   ],
   "source": [
    "plt.stem(influence, markerfmt=\",\")\n",
    "plt.show()"
   ]
  },
  {
   "cell_type": "code",
   "execution_count": 68,
   "id": "743fb6e1",
   "metadata": {},
   "outputs": [],
   "source": [
    "X_train.drop([691, 349],inplace=True)\n",
    "y_train.drop([691, 349],inplace=True)"
   ]
  },
  {
   "cell_type": "markdown",
   "id": "aff03a49",
   "metadata": {},
   "source": [
    "- now the assumption is satisfied."
   ]
  },
  {
   "cell_type": "code",
   "execution_count": 69,
   "id": "75185977",
   "metadata": {},
   "outputs": [],
   "source": [
    "Baseline_Cross_validation_Scores = cross_val_score(BaseLine_model,X_train,y_train,cv=StratifiedKFold(n_splits=8,shuffle=True,random_state=42),scoring=f_beta)"
   ]
  },
  {
   "cell_type": "code",
   "execution_count": 70,
   "id": "147fdc50",
   "metadata": {},
   "outputs": [
    {
     "data": {
      "text/plain": [
       "(0.7624548789508818,\n",
       " 0.03179564363886498,\n",
       " 0.8083404219161379,\n",
       " 0.7164692708478857)"
      ]
     },
     "execution_count": 70,
     "metadata": {},
     "output_type": "execute_result"
    }
   ],
   "source": [
    "np.mean(Baseline_Cross_validation_Scores),np.std(Baseline_Cross_validation_Scores),np.quantile(Baseline_Cross_validation_Scores,0.975),np.quantile(Baseline_Cross_validation_Scores,0.025)"
   ]
  },
  {
   "cell_type": "code",
   "execution_count": 71,
   "id": "fcc7d6cf",
   "metadata": {},
   "outputs": [
    {
     "data": {
      "text/plain": [
       "0.7741691842900302"
      ]
     },
     "execution_count": 71,
     "metadata": {},
     "output_type": "execute_result"
    }
   ],
   "source": [
    "BaseLine_model.fit(X_train,y_train)\n",
    "fbeta_score(y_train,BaseLine_model.predict(X_train),beta=0.8)"
   ]
  },
  {
   "cell_type": "markdown",
   "id": "4bb8aca8",
   "metadata": {},
   "source": [
    "|Cross Validation|Training|\n",
    "|---|---|\n",
    "|0.762|0.774|"
   ]
  },
  {
   "cell_type": "code",
   "execution_count": 72,
   "id": "350bc231",
   "metadata": {},
   "outputs": [],
   "source": [
    "Baseline_Score = 0.762"
   ]
  },
  {
   "cell_type": "markdown",
   "id": "0ebb8dd2",
   "metadata": {},
   "source": [
    "- the model violated one assumption "
   ]
  },
  {
   "cell_type": "markdown",
   "id": "d415ebd6",
   "metadata": {},
   "source": [
    "### Comparison Model"
   ]
  },
  {
   "cell_type": "code",
   "execution_count": 73,
   "id": "68526857",
   "metadata": {},
   "outputs": [],
   "source": [
    "from xgboost import XGBClassifier"
   ]
  },
  {
   "cell_type": "markdown",
   "id": "bef94b8c",
   "metadata": {},
   "source": [
    "Creating"
   ]
  },
  {
   "cell_type": "code",
   "execution_count": 74,
   "id": "f51ceb2c",
   "metadata": {},
   "outputs": [],
   "source": [
    "Comparison_Model = make_pipeline(RobustScaler(),KNNImputer(),XGBClassifier(n_estimators = 18 ,max_depth = 2,random_state = 42))"
   ]
  },
  {
   "cell_type": "markdown",
   "id": "e5e2972a",
   "metadata": {},
   "source": [
    "Calculate Cross Validation Score"
   ]
  },
  {
   "cell_type": "code",
   "execution_count": 75,
   "id": "b21ebd9f",
   "metadata": {},
   "outputs": [],
   "source": [
    "Comparison_Cross_validation_Scores = cross_val_score(Comparison_Model,X_train,y_train,cv=StratifiedKFold(n_splits=8,shuffle=True,random_state=42),scoring=f_beta)"
   ]
  },
  {
   "cell_type": "code",
   "execution_count": 76,
   "id": "844fa15f",
   "metadata": {},
   "outputs": [
    {
     "data": {
      "text/plain": [
       "(0.784678565625829,\n",
       " 0.027898415414112497,\n",
       " 0.8158895186696278,\n",
       " 0.737959024751369)"
      ]
     },
     "execution_count": 76,
     "metadata": {},
     "output_type": "execute_result"
    }
   ],
   "source": [
    "np.mean(Comparison_Cross_validation_Scores),np.std(Comparison_Cross_validation_Scores),np.quantile(Comparison_Cross_validation_Scores,0.975),np.quantile(Comparison_Cross_validation_Scores,0.025)"
   ]
  },
  {
   "cell_type": "markdown",
   "id": "8c8eec50",
   "metadata": {},
   "source": [
    "Calculating Training Score"
   ]
  },
  {
   "cell_type": "code",
   "execution_count": 77,
   "id": "8a67bfa3",
   "metadata": {},
   "outputs": [
    {
     "data": {
      "text/plain": [
       "0.799968274111675"
      ]
     },
     "execution_count": 77,
     "metadata": {},
     "output_type": "execute_result"
    }
   ],
   "source": [
    "Comparison_Model.fit(X_train,y_train)\n",
    "fbeta_score(y_train,Comparison_Model.predict(X_train),beta=0.8)"
   ]
  },
  {
   "cell_type": "markdown",
   "id": "a9477603",
   "metadata": {},
   "source": [
    "- no overfitting problem\n",
    "- CI is narrow ,STD is small ,So the true performance of the model is closed to 0.785 "
   ]
  },
  {
   "cell_type": "markdown",
   "id": "972b033e",
   "metadata": {},
   "source": [
    "|Cross Validation|Training|\n",
    "|---|---|\n",
    "|0.785|0.799|"
   ]
  },
  {
   "cell_type": "markdown",
   "id": "7140b11d",
   "metadata": {},
   "source": [
    "# Comparison"
   ]
  },
  {
   "cell_type": "markdown",
   "id": "94e98c66",
   "metadata": {},
   "source": [
    "Logistic regression is a type of linear and parametric model, which makes assumptions about the data distribution. On the other hand, XGBoost is a type of non-linear and non-parametric model that does not make any assumptions about the data distribution. Additionally, XGBoost is an ensemble model that combines weak learners to handle underfitting. Each weak learner tries to correct the misclassifications of the previous learner by giving more probability to the misclassified points in the subsequent training iterations. This process is repeated n times.\n",
    "\n",
    "To compare the performance of the models, we will first compare the CV and training scores for each model to determine overfitting. Then, we will calculate the confidence interval (CI) and standard deviation (STD) for each model. Finally, we will compare the comparison model with the baseline."
   ]
  },
  {
   "cell_type": "markdown",
   "id": "6daa4673",
   "metadata": {},
   "source": [
    "BaseLine Model\n",
    "\n",
    "|Cross Validation|Training|CI->2.5|CI->97.5|STD|\n",
    "|---|---|---|---|---|\n",
    "|0.76|0.77|0.72|0.81|0.03|"
   ]
  },
  {
   "cell_type": "markdown",
   "id": "abc0fa54",
   "metadata": {},
   "source": [
    "- Cross Validation Score is close to Training Score ,so there is no overfitting problem\n",
    "- CI is between 0.72 to 0.81 which is not wider or narrower in addition to STD is small which means the scores are closer to each others"
   ]
  },
  {
   "cell_type": "markdown",
   "id": "6c376791",
   "metadata": {},
   "source": [
    "Comparison Model\n",
    "\n",
    "|Cross Validation|Training|CI->2.5|CI->97.5|STD|\n",
    "|---|---|---|---|---|\n",
    "|0.79|0.8| 0.74|0.82|0.03|\n",
    "\n",
    "- Cross Validation Score is close to Training Score ,so there is no overfitting problem\n",
    "- CI is between 0.74 to 0.82 which is not wider or narrower in addition to STD is small which means the scores are closer to each others"
   ]
  },
  {
   "cell_type": "code",
   "execution_count": 78,
   "id": "bd9081ed",
   "metadata": {},
   "outputs": [
    {
     "data": {
      "image/png": "[encoded data removed]",
      "text/plain": [
       "<Figure size 1152x432 with 1 Axes>"
      ]
     },
     "metadata": {
      "needs_background": "light"
     },
     "output_type": "display_data"
    }
   ],
   "source": [
    "plt.subplots(figsize=(16,6))\n",
    "plt.axhline(0.76,color='red',label='Baseline')\n",
    "plt.axhline(0.79,color='green',label='CR')\n",
    "plt.axhline(0.8,color='blue',label='Train')\n",
    "plt.title('Comparison Between Baseline and Comparison Models')\n",
    "plt.legend()\n",
    "plt.show()"
   ]
  },
  {
   "cell_type": "markdown",
   "id": "1d12d0ae",
   "metadata": {},
   "source": [
    "- The New Model performes better than Baseline Model"
   ]
  },
  {
   "cell_type": "code",
   "execution_count": 79,
   "id": "fac96114",
   "metadata": {},
   "outputs": [],
   "source": [
    "from sklearn.metrics import confusion_matrix\n",
    "from sklearn.metrics import ConfusionMatrixDisplay"
   ]
  },
  {
   "cell_type": "code",
   "execution_count": 80,
   "id": "8ef49a77",
   "metadata": {},
   "outputs": [
    {
     "data": {
      "image/png": "[encoded data removed]",
      "text/plain": [
       "<Figure size 864x432 with 2 Axes>"
      ]
     },
     "metadata": {
      "needs_background": "light"
     },
     "output_type": "display_data"
    }
   ],
   "source": [
    "fig ,ax = plt.subplots(figsize=(12,6))\n",
    "cm = confusion_matrix(y_train, Comparison_Model.predict(X_train))\n",
    "ConfusionMatrixDisplay(cm).plot(ax=ax,cmap='Blues')\n",
    "plt.title(\"Confusion Matrix of Training Data\")\n",
    "plt.show()"
   ]
  },
  {
   "cell_type": "markdown",
   "id": "532291d4",
   "metadata": {},
   "source": [
    "Tuning the Comparison Model "
   ]
  },
  {
   "cell_type": "code",
   "execution_count": 81,
   "id": "7b0d5eb4",
   "metadata": {},
   "outputs": [],
   "source": [
    "from sklearn.model_selection import GridSearchCV"
   ]
  },
  {
   "cell_type": "code",
   "execution_count": 82,
   "id": "669a8b3b",
   "metadata": {},
   "outputs": [],
   "source": [
    "params = gb_params = {\n",
    "    'xgbclassifier__n_estimators': [18,19,20,22,24], # The number of boosting stages to perform\n",
    "    'xgbclassifier__max_depth': [2, 5 ,7 ,11], # The maximum depth of each decision tree\n",
    "}\n"
   ]
  },
  {
   "cell_type": "code",
   "execution_count": 83,
   "id": "68890007",
   "metadata": {},
   "outputs": [],
   "source": [
    "model = make_pipeline(RobustScaler(),KNNImputer(),XGBClassifier(random_state = 42))"
   ]
  },
  {
   "cell_type": "code",
   "execution_count": 84,
   "id": "32347be3",
   "metadata": {},
   "outputs": [],
   "source": [
    "GS = GridSearchCV(model,param_grid=params,scoring=f_beta,cv=StratifiedKFold(n_splits=8,shuffle=True,random_state=42),return_train_score=True)"
   ]
  },
  {
   "cell_type": "code",
   "execution_count": 85,
   "id": "32bf230d",
   "metadata": {},
   "outputs": [
    {
     "data": {
      "text/html": [
       "<style>#sk-container-id-2 {color: black;background-color: white;}#sk-container-id-2 pre{padding: 0;}#sk-container-id-2 div.sk-toggleable {background-color: white;}#sk-container-id-2 label.sk-toggleable__label {cursor: pointer;display: block;width: 100%;margin-bottom: 0;padding: 0.3em;box-sizing: border-box;text-align: center;}#sk-container-id-2 label.sk-toggleable__label-arrow:before {content: \"▸\";float: left;margin-right: 0.25em;color: #696969;}#sk-container-id-2 label.sk-toggleable__label-arrow:hover:before {color: black;}#sk-container-id-2 div.sk-estimator:hover label.sk-toggleable__label-arrow:before {color: black;}#sk-container-id-2 div.sk-toggleable__content {max-height: 0;max-width: 0;overflow: hidden;text-align: left;background-color: #f0f8ff;}#sk-container-id-2 div.sk-toggleable__content pre {margin: 0.2em;color: black;border-radius: 0.25em;background-color: #f0f8ff;}#sk-container-id-2 input.sk-toggleable__control:checked~div.sk-toggleable__content {max-height: 200px;max-width: 100%;overflow: auto;}#sk-container-id-2 input.sk-toggleable__control:checked~label.sk-toggleable__label-arrow:before {content: \"▾\";}#sk-container-id-2 div.sk-estimator input.sk-toggleable__control:checked~label.sk-toggleable__label {background-color: #d4ebff;}#sk-container-id-2 div.sk-label input.sk-toggleable__control:checked~label.sk-toggleable__label {background-color: #d4ebff;}#sk-container-id-2 input.sk-hidden--visually {border: 0;clip: rect(1px 1px 1px 1px);clip: rect(1px, 1px, 1px, 1px);height: 1px;margin: -1px;overflow: hidden;padding: 0;position: absolute;width: 1px;}#sk-container-id-2 div.sk-estimator {font-family: monospace;background-color: #f0f8ff;border: 1px dotted black;border-radius: 0.25em;box-sizing: border-box;margin-bottom: 0.5em;}#sk-container-id-2 div.sk-estimator:hover {background-color: #d4ebff;}#sk-container-id-2 div.sk-parallel-item::after {content: \"\";width: 100%;border-bottom: 1px solid gray;flex-grow: 1;}#sk-container-id-2 div.sk-label:hover label.sk-toggleable__label {background-color: #d4ebff;}#sk-container-id-2 div.sk-serial::before {content: \"\";position: absolute;border-left: 1px solid gray;box-sizing: border-box;top: 0;bottom: 0;left: 50%;z-index: 0;}#sk-container-id-2 div.sk-serial {display: flex;flex-direction: column;align-items: center;background-color: white;padding-right: 0.2em;padding-left: 0.2em;position: relative;}#sk-container-id-2 div.sk-item {position: relative;z-index: 1;}#sk-container-id-2 div.sk-parallel {display: flex;align-items: stretch;justify-content: center;background-color: white;position: relative;}#sk-container-id-2 div.sk-item::before, #sk-container-id-2 div.sk-parallel-item::before {content: \"\";position: absolute;border-left: 1px solid gray;box-sizing: border-box;top: 0;bottom: 0;left: 50%;z-index: -1;}#sk-container-id-2 div.sk-parallel-item {display: flex;flex-direction: column;z-index: 1;position: relative;background-color: white;}#sk-container-id-2 div.sk-parallel-item:first-child::after {align-self: flex-end;width: 50%;}#sk-container-id-2 div.sk-parallel-item:last-child::after {align-self: flex-start;width: 50%;}#sk-container-id-2 div.sk-parallel-item:only-child::after {width: 0;}#sk-container-id-2 div.sk-dashed-wrapped {border: 1px dashed gray;margin: 0 0.4em 0.5em 0.4em;box-sizing: border-box;padding-bottom: 0.4em;background-color: white;}#sk-container-id-2 div.sk-label label {font-family: monospace;font-weight: bold;display: inline-block;line-height: 1.2em;}#sk-container-id-2 div.sk-label-container {text-align: center;}#sk-container-id-2 div.sk-container {/* jupyter's `normalize.less` sets `[hidden] { display: none; }` but bootstrap.min.css set `[hidden] { display: none !important; }` so we also need the `!important` here to be able to override the default hidden behavior on the sphinx rendered scikit-learn.org. See: https://github.com/scikit-learn/scikit-learn/issues/21755 */display: inline-block !important;position: relative;}#sk-container-id-2 div.sk-text-repr-fallback {display: none;}</style><div id=\"sk-container-id-2\" class=\"sk-top-container\"><div class=\"sk-text-repr-fallback\"><pre>GridSearchCV(cv=StratifiedKFold(n_splits=8, random_state=42, shuffle=True),\n",
       "             estimator=Pipeline(steps=[(&#x27;robustscaler&#x27;, RobustScaler()),\n",
       "                                       (&#x27;knnimputer&#x27;, KNNImputer()),\n",
       "                                       (&#x27;xgbclassifier&#x27;,\n",
       "                                        XGBClassifier(base_score=None,\n",
       "                                                      booster=None,\n",
       "                                                      callbacks=None,\n",
       "                                                      colsample_bylevel=None,\n",
       "                                                      colsample_bynode=None,\n",
       "                                                      colsample_bytree=None,\n",
       "                                                      early_stopping_rounds=None,\n",
       "                                                      enable_categorical=Fal...\n",
       "                                                      max_delta_step=None,\n",
       "                                                      max_depth=None,\n",
       "                                                      max_leaves=None,\n",
       "                                                      min_child_weight=None,\n",
       "                                                      missing=nan,\n",
       "                                                      monotone_constraints=None,\n",
       "                                                      n_estimators=100,\n",
       "                                                      n_jobs=None,\n",
       "                                                      num_parallel_tree=None,\n",
       "                                                      predictor=None,\n",
       "                                                      random_state=42, ...))]),\n",
       "             param_grid={&#x27;xgbclassifier__max_depth&#x27;: [2, 5, 7, 11],\n",
       "                         &#x27;xgbclassifier__n_estimators&#x27;: [18, 19, 20, 22, 24]},\n",
       "             return_train_score=True,\n",
       "             scoring=make_scorer(fbeta_score, beta=0.8))</pre><b>In a Jupyter environment, please rerun this cell to show the HTML representation or trust the notebook. <br />On GitHub, the HTML representation is unable to render, please try loading this page with nbviewer.org.</b></div><div class=\"sk-container\" hidden><div class=\"sk-item sk-dashed-wrapped\"><div class=\"sk-label-container\"><div class=\"sk-label sk-toggleable\"><input class=\"sk-toggleable__control sk-hidden--visually\" id=\"sk-estimator-id-5\" type=\"checkbox\" ><label for=\"sk-estimator-id-5\" class=\"sk-toggleable__label sk-toggleable__label-arrow\">GridSearchCV</label><div class=\"sk-toggleable__content\"><pre>GridSearchCV(cv=StratifiedKFold(n_splits=8, random_state=42, shuffle=True),\n",
       "             estimator=Pipeline(steps=[(&#x27;robustscaler&#x27;, RobustScaler()),\n",
       "                                       (&#x27;knnimputer&#x27;, KNNImputer()),\n",
       "                                       (&#x27;xgbclassifier&#x27;,\n",
       "                                        XGBClassifier(base_score=None,\n",
       "                                                      booster=None,\n",
       "                                                      callbacks=None,\n",
       "                                                      colsample_bylevel=None,\n",
       "                                                      colsample_bynode=None,\n",
       "                                                      colsample_bytree=None,\n",
       "                                                      early_stopping_rounds=None,\n",
       "                                                      enable_categorical=Fal...\n",
       "                                                      max_delta_step=None,\n",
       "                                                      max_depth=None,\n",
       "                                                      max_leaves=None,\n",
       "                                                      min_child_weight=None,\n",
       "                                                      missing=nan,\n",
       "                                                      monotone_constraints=None,\n",
       "                                                      n_estimators=100,\n",
       "                                                      n_jobs=None,\n",
       "                                                      num_parallel_tree=None,\n",
       "                                                      predictor=None,\n",
       "                                                      random_state=42, ...))]),\n",
       "             param_grid={&#x27;xgbclassifier__max_depth&#x27;: [2, 5, 7, 11],\n",
       "                         &#x27;xgbclassifier__n_estimators&#x27;: [18, 19, 20, 22, 24]},\n",
       "             return_train_score=True,\n",
       "             scoring=make_scorer(fbeta_score, beta=0.8))</pre></div></div></div><div class=\"sk-parallel\"><div class=\"sk-parallel-item\"><div class=\"sk-item\"><div class=\"sk-label-container\"><div class=\"sk-label sk-toggleable\"><input class=\"sk-toggleable__control sk-hidden--visually\" id=\"sk-estimator-id-6\" type=\"checkbox\" ><label for=\"sk-estimator-id-6\" class=\"sk-toggleable__label sk-toggleable__label-arrow\">estimator: Pipeline</label><div class=\"sk-toggleable__content\"><pre>Pipeline(steps=[(&#x27;robustscaler&#x27;, RobustScaler()), (&#x27;knnimputer&#x27;, KNNImputer()),\n",
       "                (&#x27;xgbclassifier&#x27;,\n",
       "                 XGBClassifier(base_score=None, booster=None, callbacks=None,\n",
       "                               colsample_bylevel=None, colsample_bynode=None,\n",
       "                               colsample_bytree=None,\n",
       "                               early_stopping_rounds=None,\n",
       "                               enable_categorical=False, eval_metric=None,\n",
       "                               feature_types=None, gamma=None, gpu_id=None,\n",
       "                               grow_policy=None, importance_type=None,\n",
       "                               interaction_constraints=None, learning_rate=None,\n",
       "                               max_bin=None, max_cat_threshold=None,\n",
       "                               max_cat_to_onehot=None, max_delta_step=None,\n",
       "                               max_depth=None, max_leaves=None,\n",
       "                               min_child_weight=None, missing=nan,\n",
       "                               monotone_constraints=None, n_estimators=100,\n",
       "                               n_jobs=None, num_parallel_tree=None,\n",
       "                               predictor=None, random_state=42, ...))])</pre></div></div></div><div class=\"sk-serial\"><div class=\"sk-item\"><div class=\"sk-serial\"><div class=\"sk-item\"><div class=\"sk-estimator sk-toggleable\"><input class=\"sk-toggleable__control sk-hidden--visually\" id=\"sk-estimator-id-7\" type=\"checkbox\" ><label for=\"sk-estimator-id-7\" class=\"sk-toggleable__label sk-toggleable__label-arrow\">RobustScaler</label><div class=\"sk-toggleable__content\"><pre>RobustScaler()</pre></div></div></div><div class=\"sk-item\"><div class=\"sk-estimator sk-toggleable\"><input class=\"sk-toggleable__control sk-hidden--visually\" id=\"sk-estimator-id-8\" type=\"checkbox\" ><label for=\"sk-estimator-id-8\" class=\"sk-toggleable__label sk-toggleable__label-arrow\">KNNImputer</label><div class=\"sk-toggleable__content\"><pre>KNNImputer()</pre></div></div></div><div class=\"sk-item\"><div class=\"sk-estimator sk-toggleable\"><input class=\"sk-toggleable__control sk-hidden--visually\" id=\"sk-estimator-id-9\" type=\"checkbox\" ><label for=\"sk-estimator-id-9\" class=\"sk-toggleable__label sk-toggleable__label-arrow\">XGBClassifier</label><div class=\"sk-toggleable__content\"><pre>XGBClassifier(base_score=None, booster=None, callbacks=None,\n",
       "              colsample_bylevel=None, colsample_bynode=None,\n",
       "              colsample_bytree=None, early_stopping_rounds=None,\n",
       "              enable_categorical=False, eval_metric=None, feature_types=None,\n",
       "              gamma=None, gpu_id=None, grow_policy=None, importance_type=None,\n",
       "              interaction_constraints=None, learning_rate=None, max_bin=None,\n",
       "              max_cat_threshold=None, max_cat_to_onehot=None,\n",
       "              max_delta_step=None, max_depth=None, max_leaves=None,\n",
       "              min_child_weight=None, missing=nan, monotone_constraints=None,\n",
       "              n_estimators=100, n_jobs=None, num_parallel_tree=None,\n",
       "              predictor=None, random_state=42, ...)</pre></div></div></div></div></div></div></div></div></div></div></div></div>"
      ],
      "text/plain": [
       "GridSearchCV(cv=StratifiedKFold(n_splits=8, random_state=42, shuffle=True),\n",
       "             estimator=Pipeline(steps=[('robustscaler', RobustScaler()),\n",
       "                                       ('knnimputer', KNNImputer()),\n",
       "                                       ('xgbclassifier',\n",
       "                                        XGBClassifier(base_score=None,\n",
       "                                                      booster=None,\n",
       "                                                      callbacks=None,\n",
       "                                                      colsample_bylevel=None,\n",
       "                                                      colsample_bynode=None,\n",
       "                                                      colsample_bytree=None,\n",
       "                                                      early_stopping_rounds=None,\n",
       "                                                      enable_categorical=Fal...\n",
       "                                                      max_delta_step=None,\n",
       "                                                      max_depth=None,\n",
       "                                                      max_leaves=None,\n",
       "                                                      min_child_weight=None,\n",
       "                                                      missing=nan,\n",
       "                                                      monotone_constraints=None,\n",
       "                                                      n_estimators=100,\n",
       "                                                      n_jobs=None,\n",
       "                                                      num_parallel_tree=None,\n",
       "                                                      predictor=None,\n",
       "                                                      random_state=42, ...))]),\n",
       "             param_grid={'xgbclassifier__max_depth': [2, 5, 7, 11],\n",
       "                         'xgbclassifier__n_estimators': [18, 19, 20, 22, 24]},\n",
       "             return_train_score=True,\n",
       "             scoring=make_scorer(fbeta_score, beta=0.8))"
      ]
     },
     "execution_count": 85,
     "metadata": {},
     "output_type": "execute_result"
    }
   ],
   "source": [
    "GS.fit(X_train,y_train)"
   ]
  },
  {
   "cell_type": "code",
   "execution_count": 86,
   "id": "c78926c2",
   "metadata": {},
   "outputs": [
    {
     "data": {
      "text/plain": [
       "{'xgbclassifier__max_depth': 2, 'xgbclassifier__n_estimators': 18}"
      ]
     },
     "execution_count": 86,
     "metadata": {},
     "output_type": "execute_result"
    }
   ],
   "source": [
    "GS.best_params_"
   ]
  },
  {
   "cell_type": "markdown",
   "id": "7c66541b",
   "metadata": {},
   "source": [
    "# Business Goals"
   ]
  },
  {
   "cell_type": "markdown",
   "id": "c3152b63",
   "metadata": {},
   "source": [
    "- Predict which recipes will lead to high traffic\n",
    "- Correctly predict high traffic recipes 80% of the time"
   ]
  },
  {
   "cell_type": "markdown",
   "id": "9fc40dce",
   "metadata": {},
   "source": [
    "- My Comparison Model Achieves about 79.52% of prediction is high traffic recipes on the training set,which is achieving business goal of the team which is predict high traffic with 80% of the time ,but i will use the last two models to test status of testing set"
   ]
  },
  {
   "cell_type": "markdown",
   "id": "4cd32d5d",
   "metadata": {},
   "source": [
    "#### Recommendations:\n",
    "- deploy on production to use.\n",
    "- test this model many times before using it to get actions on old recipes ,just to make sure thats works well .\n",
    "- more data will be more accurate results ,because there is few data it will be not accurate to much ,so if it is possible to collect more data it will be good thing."
   ]
  },
  {
   "cell_type": "markdown",
   "id": "ab307355",
   "metadata": {},
   "source": [
    "# Business Metrics\n",
    "### KPI ( Key Performance Indicator )\n",
    "- as i said before we don't need either False Positive/Negative ,so i will choose F-Beta Score and focusing on precision"
   ]
  },
  {
   "cell_type": "code",
   "execution_count": 87,
   "id": "d733fdeb",
   "metadata": {},
   "outputs": [
    {
     "name": "stdout",
     "output_type": "stream",
     "text": [
      "Comparison Model Performance : 0.7986409966024915\n"
     ]
    }
   ],
   "source": [
    "print(f\"Comparison Model Performance : {f_beta(Comparison_Model,X_test,y_test)}\")"
   ]
  },
  {
   "cell_type": "code",
   "execution_count": 88,
   "id": "fff67da9",
   "metadata": {},
   "outputs": [
    {
     "name": "stdout",
     "output_type": "stream",
     "text": [
      "BaseLine Model Performance : 0.7912280701754385\n"
     ]
    }
   ],
   "source": [
    "print(f\"BaseLine Model Performance : {f_beta(BaseLine_model,X_test,y_test)}\")"
   ]
  },
  {
   "cell_type": "code",
   "execution_count": 89,
   "id": "96dad521",
   "metadata": {},
   "outputs": [
    {
     "name": "stdout",
     "output_type": "stream",
     "text": [
      "Comparison Model Performance is better than Baseline\n"
     ]
    }
   ],
   "source": [
    "if f_beta(BaseLine_model,X_test,y_test) < f_beta(Comparison_Model,X_test,y_test):\n",
    "    print('Comparison Model Performance is better than Baseline')\n",
    "else : \n",
    "    print('Comparison Model Performance is worse than Baseline')"
   ]
  },
  {
   "cell_type": "code",
   "execution_count": 90,
   "id": "939431a9",
   "metadata": {},
   "outputs": [
    {
     "data": {
      "image/png": "[encoded data removed]",
      "text/plain": [
       "<Figure size 864x432 with 2 Axes>"
      ]
     },
     "metadata": {
      "needs_background": "light"
     },
     "output_type": "display_data"
    }
   ],
   "source": [
    "fig ,ax = plt.subplots(figsize=(12,6))\n",
    "cm = confusion_matrix(y_test, BaseLine_model.predict(X_test))\n",
    "ConfusionMatrixDisplay(cm).plot(ax=ax,cmap='Blues')\n",
    "plt.title('BaseLine Model Test Set ConfusionMatrix')\n",
    "plt.show()"
   ]
  },
  {
   "cell_type": "code",
   "execution_count": 91,
   "id": "a7da024f",
   "metadata": {},
   "outputs": [
    {
     "data": {
      "image/png": "[encoded data removed]",
      "text/plain": [
       "<Figure size 864x432 with 2 Axes>"
      ]
     },
     "metadata": {
      "needs_background": "light"
     },
     "output_type": "display_data"
    }
   ],
   "source": [
    "fig ,ax = plt.subplots(figsize=(12,6))\n",
    "cm = confusion_matrix(y_test, Comparison_Model.predict(X_test))\n",
    "ConfusionMatrixDisplay(cm).plot(ax=ax,cmap='Blues')\n",
    "plt.title('Comparison Model Test Set ConfusionMatrix')\n",
    "plt.show()"
   ]
  },
  {
   "cell_type": "markdown",
   "id": "d6e660ff",
   "metadata": {},
   "source": [
    "### Comparison Model achieve about 83.5% for predicting high traffic recipes ,which is higher than business goal \"80%\"\n",
    "This score is according to my available data ,but to make sure the team should provide the model with more data and test the model many times to make sure it works well"
   ]
  },
  {
   "cell_type": "markdown",
   "id": "00dfc48d",
   "metadata": {},
   "source": [
    "# Summary And Recommendations Section"
   ]
  },
  {
   "cell_type": "markdown",
   "id": "82a4f167",
   "metadata": {},
   "source": [
    "|||\n",
    "| --- | --- |\n",
    "|![Alt text](BM.png \"Percentage of each Category for each traffic status\")|![Alt text](BM1.png \"Percentage of each Category\")|\n",
    "\n",
    "![Alt text](Cat.png \"Percentage of each Category\")"
   ]
  },
  {
   "cell_type": "markdown",
   "id": "a92a1053",
   "metadata": {},
   "source": [
    "The business is focusing on chicken recipes and breakfast, but neither is giving the business a high traffic for their website. If we look at the second chart, we can see that vegetable, potato, pork, and meat recipes are the recipes that receive high traffic from users. Additionally, when I looked at the first chart, I noticed that these recipes have a lower number of recipes, which could result in losing more users from the website and decrease the traffic.\n",
    "\n",
    "- business should cares about Vegetable ,Potato ,Pork recipes instead of Chicken ,Beverages ,Breakfast recipes\n",
    "- deploy the model on production to use.\n",
    "- test this model many times on old recipes before using it to get actions ,just to make sure thats works well .\n",
    "- more data will be more accurate results ,because there is few data it will be not accurate to much ,so if it is possible to collect more data it will be good thing."
   ]
  }
 ],
 "metadata": {
  "kernelspec": {
   "display_name": "Python 3 (ipykernel)",
   "language": "python",
   "name": "python3"
  },
  "language_info": {
   "codemirror_mode": {
    "name": "ipython",
    "version": 3
   },
   "file_extension": ".py",
   "mimetype": "text/x-python",
   "name": "python",
   "nbconvert_exporter": "python",
   "pygments_lexer": "ipython3",
   "version": "3.10.5"
  },
  "vp": {
   "vp_config_version": "1.0.0",
   "vp_menu_width": 273,
   "vp_note_display": false,
   "vp_note_width": 0,
   "vp_position": {
    "width": 278
   },
   "vp_section_display": false,
   "vp_signature": "VisualPython"
  }
 },
 "nbformat": 4,
 "nbformat_minor": 5
}
